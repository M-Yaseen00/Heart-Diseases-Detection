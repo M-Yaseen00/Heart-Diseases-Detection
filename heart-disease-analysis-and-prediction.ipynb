{
 "cells": [
  {
   "cell_type": "markdown",
   "id": "transparent-anger",
   "metadata": {
    "papermill": {
     "duration": 0.056485,
     "end_time": "2021-10-18T08:01:15.428402",
     "exception": false,
     "start_time": "2021-10-18T08:01:15.371917",
     "status": "completed"
    },
    "tags": []
   },
   "source": [
    "# Overview\n",
    "\n",
    "Heart disease is very dangerous for people of any age. Lot's of people are dying every year due to heart diseases. If someone with heart disease follow proper rules and ragulation he might live ok. So the important part is to determine if someone has heart disease or not. In this notebook we are going to do exactly this.\n",
    "\n",
    "### Steps\n",
    "    1. Understanding the problem\n",
    "    2. EDA\n",
    "    3. Data preprocessing\n",
    "    4. Modeling\n",
    "    5. Evaluation\n",
    "    \n",
    "# Understanding the problem\n",
    "\n",
    "A dataset was given which has 14 columns containing different information about a person. We need to predict the `target` column using other 13 columns. This is a supervised classification problem."
   ]
  },
  {
   "cell_type": "code",
   "execution_count": 1,
   "id": "aggregate-mongolia",
   "metadata": {
    "_cell_guid": "b1076dfc-b9ad-4769-8c92-a6c4dae69d19",
    "_uuid": "8f2839f25d086af736a60e9eeb907d3b93b6e0e5",
    "execution": {
     "iopub.execute_input": "2021-10-18T08:01:15.545276Z",
     "iopub.status.busy": "2021-10-18T08:01:15.543577Z",
     "iopub.status.idle": "2021-10-18T08:01:16.378011Z",
     "shell.execute_reply": "2021-10-18T08:01:16.378611Z",
     "shell.execute_reply.started": "2021-06-19T09:57:21.736511Z"
    },
    "papermill": {
     "duration": 0.895379,
     "end_time": "2021-10-18T08:01:16.378913",
     "exception": false,
     "start_time": "2021-10-18T08:01:15.483534",
     "status": "completed"
    },
    "tags": []
   },
   "outputs": [],
   "source": [
    "# importing basic libraries\n",
    "import numpy as np\n",
    "import pandas as pd\n",
    "import matplotlib.pyplot as plt\n",
    "import seaborn as sns\n",
    "%matplotlib inline"
   ]
  },
  {
   "cell_type": "code",
   "execution_count": 2,
   "id": "overhead-anime",
   "metadata": {
    "execution": {
     "iopub.execute_input": "2021-10-18T08:01:16.492479Z",
     "iopub.status.busy": "2021-10-18T08:01:16.491538Z",
     "iopub.status.idle": "2021-10-18T08:01:16.516443Z",
     "shell.execute_reply": "2021-10-18T08:01:16.516886Z",
     "shell.execute_reply.started": "2021-06-19T09:57:21.750014Z"
    },
    "papermill": {
     "duration": 0.083269,
     "end_time": "2021-10-18T08:01:16.517097",
     "exception": false,
     "start_time": "2021-10-18T08:01:16.433828",
     "status": "completed"
    },
    "tags": []
   },
   "outputs": [],
   "source": [
    "# loading the dataset\n",
    "df = pd.read_csv('../input/heart-disease-dataset/heart.csv')"
   ]
  },
  {
   "cell_type": "code",
   "execution_count": 3,
   "id": "crazy-holly",
   "metadata": {
    "execution": {
     "iopub.execute_input": "2021-10-18T08:01:16.628808Z",
     "iopub.status.busy": "2021-10-18T08:01:16.627834Z",
     "iopub.status.idle": "2021-10-18T08:01:16.656271Z",
     "shell.execute_reply": "2021-10-18T08:01:16.656730Z",
     "shell.execute_reply.started": "2021-06-19T09:57:21.784543Z"
    },
    "papermill": {
     "duration": 0.085238,
     "end_time": "2021-10-18T08:01:16.656888",
     "exception": false,
     "start_time": "2021-10-18T08:01:16.571650",
     "status": "completed"
    },
    "tags": []
   },
   "outputs": [
    {
     "data": {
      "text/html": [
       "<div>\n",
       "<style scoped>\n",
       "    .dataframe tbody tr th:only-of-type {\n",
       "        vertical-align: middle;\n",
       "    }\n",
       "\n",
       "    .dataframe tbody tr th {\n",
       "        vertical-align: top;\n",
       "    }\n",
       "\n",
       "    .dataframe thead th {\n",
       "        text-align: right;\n",
       "    }\n",
       "</style>\n",
       "<table border=\"1\" class=\"dataframe\">\n",
       "  <thead>\n",
       "    <tr style=\"text-align: right;\">\n",
       "      <th></th>\n",
       "      <th>age</th>\n",
       "      <th>sex</th>\n",
       "      <th>cp</th>\n",
       "      <th>trestbps</th>\n",
       "      <th>chol</th>\n",
       "      <th>fbs</th>\n",
       "      <th>restecg</th>\n",
       "      <th>thalach</th>\n",
       "      <th>exang</th>\n",
       "      <th>oldpeak</th>\n",
       "      <th>slope</th>\n",
       "      <th>ca</th>\n",
       "      <th>thal</th>\n",
       "      <th>target</th>\n",
       "    </tr>\n",
       "  </thead>\n",
       "  <tbody>\n",
       "    <tr>\n",
       "      <th>0</th>\n",
       "      <td>52</td>\n",
       "      <td>1</td>\n",
       "      <td>0</td>\n",
       "      <td>125</td>\n",
       "      <td>212</td>\n",
       "      <td>0</td>\n",
       "      <td>1</td>\n",
       "      <td>168</td>\n",
       "      <td>0</td>\n",
       "      <td>1.0</td>\n",
       "      <td>2</td>\n",
       "      <td>2</td>\n",
       "      <td>3</td>\n",
       "      <td>0</td>\n",
       "    </tr>\n",
       "    <tr>\n",
       "      <th>1</th>\n",
       "      <td>53</td>\n",
       "      <td>1</td>\n",
       "      <td>0</td>\n",
       "      <td>140</td>\n",
       "      <td>203</td>\n",
       "      <td>1</td>\n",
       "      <td>0</td>\n",
       "      <td>155</td>\n",
       "      <td>1</td>\n",
       "      <td>3.1</td>\n",
       "      <td>0</td>\n",
       "      <td>0</td>\n",
       "      <td>3</td>\n",
       "      <td>0</td>\n",
       "    </tr>\n",
       "    <tr>\n",
       "      <th>2</th>\n",
       "      <td>70</td>\n",
       "      <td>1</td>\n",
       "      <td>0</td>\n",
       "      <td>145</td>\n",
       "      <td>174</td>\n",
       "      <td>0</td>\n",
       "      <td>1</td>\n",
       "      <td>125</td>\n",
       "      <td>1</td>\n",
       "      <td>2.6</td>\n",
       "      <td>0</td>\n",
       "      <td>0</td>\n",
       "      <td>3</td>\n",
       "      <td>0</td>\n",
       "    </tr>\n",
       "    <tr>\n",
       "      <th>3</th>\n",
       "      <td>61</td>\n",
       "      <td>1</td>\n",
       "      <td>0</td>\n",
       "      <td>148</td>\n",
       "      <td>203</td>\n",
       "      <td>0</td>\n",
       "      <td>1</td>\n",
       "      <td>161</td>\n",
       "      <td>0</td>\n",
       "      <td>0.0</td>\n",
       "      <td>2</td>\n",
       "      <td>1</td>\n",
       "      <td>3</td>\n",
       "      <td>0</td>\n",
       "    </tr>\n",
       "    <tr>\n",
       "      <th>4</th>\n",
       "      <td>62</td>\n",
       "      <td>0</td>\n",
       "      <td>0</td>\n",
       "      <td>138</td>\n",
       "      <td>294</td>\n",
       "      <td>1</td>\n",
       "      <td>1</td>\n",
       "      <td>106</td>\n",
       "      <td>0</td>\n",
       "      <td>1.9</td>\n",
       "      <td>1</td>\n",
       "      <td>3</td>\n",
       "      <td>2</td>\n",
       "      <td>0</td>\n",
       "    </tr>\n",
       "  </tbody>\n",
       "</table>\n",
       "</div>"
      ],
      "text/plain": [
       "   age  sex  cp  trestbps  chol  fbs  restecg  thalach  exang  oldpeak  slope  \\\n",
       "0   52    1   0       125   212    0        1      168      0      1.0      2   \n",
       "1   53    1   0       140   203    1        0      155      1      3.1      0   \n",
       "2   70    1   0       145   174    0        1      125      1      2.6      0   \n",
       "3   61    1   0       148   203    0        1      161      0      0.0      2   \n",
       "4   62    0   0       138   294    1        1      106      0      1.9      1   \n",
       "\n",
       "   ca  thal  target  \n",
       "0   2     3       0  \n",
       "1   0     3       0  \n",
       "2   0     3       0  \n",
       "3   1     3       0  \n",
       "4   3     2       0  "
      ]
     },
     "execution_count": 3,
     "metadata": {},
     "output_type": "execute_result"
    }
   ],
   "source": [
    "df.head()"
   ]
  },
  {
   "cell_type": "code",
   "execution_count": 4,
   "id": "measured-survivor",
   "metadata": {
    "execution": {
     "iopub.execute_input": "2021-10-18T08:01:16.779699Z",
     "iopub.status.busy": "2021-10-18T08:01:16.778758Z",
     "iopub.status.idle": "2021-10-18T08:01:16.796899Z",
     "shell.execute_reply": "2021-10-18T08:01:16.797420Z",
     "shell.execute_reply.started": "2021-06-19T09:57:21.81886Z"
    },
    "papermill": {
     "duration": 0.083471,
     "end_time": "2021-10-18T08:01:16.797614",
     "exception": false,
     "start_time": "2021-10-18T08:01:16.714143",
     "status": "completed"
    },
    "tags": []
   },
   "outputs": [
    {
     "data": {
      "text/html": [
       "<div>\n",
       "<style scoped>\n",
       "    .dataframe tbody tr th:only-of-type {\n",
       "        vertical-align: middle;\n",
       "    }\n",
       "\n",
       "    .dataframe tbody tr th {\n",
       "        vertical-align: top;\n",
       "    }\n",
       "\n",
       "    .dataframe thead th {\n",
       "        text-align: right;\n",
       "    }\n",
       "</style>\n",
       "<table border=\"1\" class=\"dataframe\">\n",
       "  <thead>\n",
       "    <tr style=\"text-align: right;\">\n",
       "      <th></th>\n",
       "      <th>age</th>\n",
       "      <th>sex</th>\n",
       "      <th>cp</th>\n",
       "      <th>trestbps</th>\n",
       "      <th>chol</th>\n",
       "      <th>fbs</th>\n",
       "      <th>restecg</th>\n",
       "      <th>thalach</th>\n",
       "      <th>exang</th>\n",
       "      <th>oldpeak</th>\n",
       "      <th>slope</th>\n",
       "      <th>ca</th>\n",
       "      <th>thal</th>\n",
       "      <th>target</th>\n",
       "    </tr>\n",
       "  </thead>\n",
       "  <tbody>\n",
       "    <tr>\n",
       "      <th>1020</th>\n",
       "      <td>59</td>\n",
       "      <td>1</td>\n",
       "      <td>1</td>\n",
       "      <td>140</td>\n",
       "      <td>221</td>\n",
       "      <td>0</td>\n",
       "      <td>1</td>\n",
       "      <td>164</td>\n",
       "      <td>1</td>\n",
       "      <td>0.0</td>\n",
       "      <td>2</td>\n",
       "      <td>0</td>\n",
       "      <td>2</td>\n",
       "      <td>1</td>\n",
       "    </tr>\n",
       "    <tr>\n",
       "      <th>1021</th>\n",
       "      <td>60</td>\n",
       "      <td>1</td>\n",
       "      <td>0</td>\n",
       "      <td>125</td>\n",
       "      <td>258</td>\n",
       "      <td>0</td>\n",
       "      <td>0</td>\n",
       "      <td>141</td>\n",
       "      <td>1</td>\n",
       "      <td>2.8</td>\n",
       "      <td>1</td>\n",
       "      <td>1</td>\n",
       "      <td>3</td>\n",
       "      <td>0</td>\n",
       "    </tr>\n",
       "    <tr>\n",
       "      <th>1022</th>\n",
       "      <td>47</td>\n",
       "      <td>1</td>\n",
       "      <td>0</td>\n",
       "      <td>110</td>\n",
       "      <td>275</td>\n",
       "      <td>0</td>\n",
       "      <td>0</td>\n",
       "      <td>118</td>\n",
       "      <td>1</td>\n",
       "      <td>1.0</td>\n",
       "      <td>1</td>\n",
       "      <td>1</td>\n",
       "      <td>2</td>\n",
       "      <td>0</td>\n",
       "    </tr>\n",
       "    <tr>\n",
       "      <th>1023</th>\n",
       "      <td>50</td>\n",
       "      <td>0</td>\n",
       "      <td>0</td>\n",
       "      <td>110</td>\n",
       "      <td>254</td>\n",
       "      <td>0</td>\n",
       "      <td>0</td>\n",
       "      <td>159</td>\n",
       "      <td>0</td>\n",
       "      <td>0.0</td>\n",
       "      <td>2</td>\n",
       "      <td>0</td>\n",
       "      <td>2</td>\n",
       "      <td>1</td>\n",
       "    </tr>\n",
       "    <tr>\n",
       "      <th>1024</th>\n",
       "      <td>54</td>\n",
       "      <td>1</td>\n",
       "      <td>0</td>\n",
       "      <td>120</td>\n",
       "      <td>188</td>\n",
       "      <td>0</td>\n",
       "      <td>1</td>\n",
       "      <td>113</td>\n",
       "      <td>0</td>\n",
       "      <td>1.4</td>\n",
       "      <td>1</td>\n",
       "      <td>1</td>\n",
       "      <td>3</td>\n",
       "      <td>0</td>\n",
       "    </tr>\n",
       "  </tbody>\n",
       "</table>\n",
       "</div>"
      ],
      "text/plain": [
       "      age  sex  cp  trestbps  chol  fbs  restecg  thalach  exang  oldpeak  \\\n",
       "1020   59    1   1       140   221    0        1      164      1      0.0   \n",
       "1021   60    1   0       125   258    0        0      141      1      2.8   \n",
       "1022   47    1   0       110   275    0        0      118      1      1.0   \n",
       "1023   50    0   0       110   254    0        0      159      0      0.0   \n",
       "1024   54    1   0       120   188    0        1      113      0      1.4   \n",
       "\n",
       "      slope  ca  thal  target  \n",
       "1020      2   0     2       1  \n",
       "1021      1   1     3       0  \n",
       "1022      1   1     2       0  \n",
       "1023      2   0     2       1  \n",
       "1024      1   1     3       0  "
      ]
     },
     "execution_count": 4,
     "metadata": {},
     "output_type": "execute_result"
    }
   ],
   "source": [
    "df.tail()"
   ]
  },
  {
   "cell_type": "code",
   "execution_count": 5,
   "id": "concrete-cardiff",
   "metadata": {
    "execution": {
     "iopub.execute_input": "2021-10-18T08:01:16.924664Z",
     "iopub.status.busy": "2021-10-18T08:01:16.923678Z",
     "iopub.status.idle": "2021-10-18T08:01:16.929467Z",
     "shell.execute_reply": "2021-10-18T08:01:16.929922Z",
     "shell.execute_reply.started": "2021-06-19T09:57:21.836581Z"
    },
    "papermill": {
     "duration": 0.065273,
     "end_time": "2021-10-18T08:01:16.930131",
     "exception": false,
     "start_time": "2021-10-18T08:01:16.864858",
     "status": "completed"
    },
    "tags": []
   },
   "outputs": [
    {
     "data": {
      "text/plain": [
       "(1025, 14)"
      ]
     },
     "execution_count": 5,
     "metadata": {},
     "output_type": "execute_result"
    }
   ],
   "source": [
    "df.shape"
   ]
  },
  {
   "cell_type": "code",
   "execution_count": 6,
   "id": "aggregate-layer",
   "metadata": {
    "execution": {
     "iopub.execute_input": "2021-10-18T08:01:17.047844Z",
     "iopub.status.busy": "2021-10-18T08:01:17.047182Z",
     "iopub.status.idle": "2021-10-18T08:01:17.065637Z",
     "shell.execute_reply": "2021-10-18T08:01:17.065007Z",
     "shell.execute_reply.started": "2021-06-19T09:57:21.84963Z"
    },
    "papermill": {
     "duration": 0.0803,
     "end_time": "2021-10-18T08:01:17.065779",
     "exception": false,
     "start_time": "2021-10-18T08:01:16.985479",
     "status": "completed"
    },
    "tags": []
   },
   "outputs": [
    {
     "name": "stdout",
     "output_type": "stream",
     "text": [
      "<class 'pandas.core.frame.DataFrame'>\n",
      "RangeIndex: 1025 entries, 0 to 1024\n",
      "Data columns (total 14 columns):\n",
      " #   Column    Non-Null Count  Dtype  \n",
      "---  ------    --------------  -----  \n",
      " 0   age       1025 non-null   int64  \n",
      " 1   sex       1025 non-null   int64  \n",
      " 2   cp        1025 non-null   int64  \n",
      " 3   trestbps  1025 non-null   int64  \n",
      " 4   chol      1025 non-null   int64  \n",
      " 5   fbs       1025 non-null   int64  \n",
      " 6   restecg   1025 non-null   int64  \n",
      " 7   thalach   1025 non-null   int64  \n",
      " 8   exang     1025 non-null   int64  \n",
      " 9   oldpeak   1025 non-null   float64\n",
      " 10  slope     1025 non-null   int64  \n",
      " 11  ca        1025 non-null   int64  \n",
      " 12  thal      1025 non-null   int64  \n",
      " 13  target    1025 non-null   int64  \n",
      "dtypes: float64(1), int64(13)\n",
      "memory usage: 112.2 KB\n"
     ]
    }
   ],
   "source": [
    "#concise summary of our dataset.\n",
    "df.info()"
   ]
  },
  {
   "cell_type": "code",
   "execution_count": 7,
   "id": "italic-quarterly",
   "metadata": {
    "execution": {
     "iopub.execute_input": "2021-10-18T08:01:17.197588Z",
     "iopub.status.busy": "2021-10-18T08:01:17.195813Z",
     "iopub.status.idle": "2021-10-18T08:01:17.277040Z",
     "shell.execute_reply": "2021-10-18T08:01:17.275895Z",
     "shell.execute_reply.started": "2021-06-19T09:57:21.878901Z"
    },
    "papermill": {
     "duration": 0.153788,
     "end_time": "2021-10-18T08:01:17.277269",
     "exception": false,
     "start_time": "2021-10-18T08:01:17.123481",
     "status": "completed"
    },
    "tags": []
   },
   "outputs": [
    {
     "data": {
      "text/html": [
       "<div>\n",
       "<style scoped>\n",
       "    .dataframe tbody tr th:only-of-type {\n",
       "        vertical-align: middle;\n",
       "    }\n",
       "\n",
       "    .dataframe tbody tr th {\n",
       "        vertical-align: top;\n",
       "    }\n",
       "\n",
       "    .dataframe thead th {\n",
       "        text-align: right;\n",
       "    }\n",
       "</style>\n",
       "<table border=\"1\" class=\"dataframe\">\n",
       "  <thead>\n",
       "    <tr style=\"text-align: right;\">\n",
       "      <th></th>\n",
       "      <th>count</th>\n",
       "      <th>mean</th>\n",
       "      <th>std</th>\n",
       "      <th>min</th>\n",
       "      <th>25%</th>\n",
       "      <th>50%</th>\n",
       "      <th>75%</th>\n",
       "      <th>max</th>\n",
       "    </tr>\n",
       "  </thead>\n",
       "  <tbody>\n",
       "    <tr>\n",
       "      <th>age</th>\n",
       "      <td>1025.0</td>\n",
       "      <td>54.434146</td>\n",
       "      <td>9.072290</td>\n",
       "      <td>29.0</td>\n",
       "      <td>48.0</td>\n",
       "      <td>56.0</td>\n",
       "      <td>61.0</td>\n",
       "      <td>77.0</td>\n",
       "    </tr>\n",
       "    <tr>\n",
       "      <th>sex</th>\n",
       "      <td>1025.0</td>\n",
       "      <td>0.695610</td>\n",
       "      <td>0.460373</td>\n",
       "      <td>0.0</td>\n",
       "      <td>0.0</td>\n",
       "      <td>1.0</td>\n",
       "      <td>1.0</td>\n",
       "      <td>1.0</td>\n",
       "    </tr>\n",
       "    <tr>\n",
       "      <th>cp</th>\n",
       "      <td>1025.0</td>\n",
       "      <td>0.942439</td>\n",
       "      <td>1.029641</td>\n",
       "      <td>0.0</td>\n",
       "      <td>0.0</td>\n",
       "      <td>1.0</td>\n",
       "      <td>2.0</td>\n",
       "      <td>3.0</td>\n",
       "    </tr>\n",
       "    <tr>\n",
       "      <th>trestbps</th>\n",
       "      <td>1025.0</td>\n",
       "      <td>131.611707</td>\n",
       "      <td>17.516718</td>\n",
       "      <td>94.0</td>\n",
       "      <td>120.0</td>\n",
       "      <td>130.0</td>\n",
       "      <td>140.0</td>\n",
       "      <td>200.0</td>\n",
       "    </tr>\n",
       "    <tr>\n",
       "      <th>chol</th>\n",
       "      <td>1025.0</td>\n",
       "      <td>246.000000</td>\n",
       "      <td>51.592510</td>\n",
       "      <td>126.0</td>\n",
       "      <td>211.0</td>\n",
       "      <td>240.0</td>\n",
       "      <td>275.0</td>\n",
       "      <td>564.0</td>\n",
       "    </tr>\n",
       "    <tr>\n",
       "      <th>fbs</th>\n",
       "      <td>1025.0</td>\n",
       "      <td>0.149268</td>\n",
       "      <td>0.356527</td>\n",
       "      <td>0.0</td>\n",
       "      <td>0.0</td>\n",
       "      <td>0.0</td>\n",
       "      <td>0.0</td>\n",
       "      <td>1.0</td>\n",
       "    </tr>\n",
       "    <tr>\n",
       "      <th>restecg</th>\n",
       "      <td>1025.0</td>\n",
       "      <td>0.529756</td>\n",
       "      <td>0.527878</td>\n",
       "      <td>0.0</td>\n",
       "      <td>0.0</td>\n",
       "      <td>1.0</td>\n",
       "      <td>1.0</td>\n",
       "      <td>2.0</td>\n",
       "    </tr>\n",
       "    <tr>\n",
       "      <th>thalach</th>\n",
       "      <td>1025.0</td>\n",
       "      <td>149.114146</td>\n",
       "      <td>23.005724</td>\n",
       "      <td>71.0</td>\n",
       "      <td>132.0</td>\n",
       "      <td>152.0</td>\n",
       "      <td>166.0</td>\n",
       "      <td>202.0</td>\n",
       "    </tr>\n",
       "    <tr>\n",
       "      <th>exang</th>\n",
       "      <td>1025.0</td>\n",
       "      <td>0.336585</td>\n",
       "      <td>0.472772</td>\n",
       "      <td>0.0</td>\n",
       "      <td>0.0</td>\n",
       "      <td>0.0</td>\n",
       "      <td>1.0</td>\n",
       "      <td>1.0</td>\n",
       "    </tr>\n",
       "    <tr>\n",
       "      <th>oldpeak</th>\n",
       "      <td>1025.0</td>\n",
       "      <td>1.071512</td>\n",
       "      <td>1.175053</td>\n",
       "      <td>0.0</td>\n",
       "      <td>0.0</td>\n",
       "      <td>0.8</td>\n",
       "      <td>1.8</td>\n",
       "      <td>6.2</td>\n",
       "    </tr>\n",
       "    <tr>\n",
       "      <th>slope</th>\n",
       "      <td>1025.0</td>\n",
       "      <td>1.385366</td>\n",
       "      <td>0.617755</td>\n",
       "      <td>0.0</td>\n",
       "      <td>1.0</td>\n",
       "      <td>1.0</td>\n",
       "      <td>2.0</td>\n",
       "      <td>2.0</td>\n",
       "    </tr>\n",
       "    <tr>\n",
       "      <th>ca</th>\n",
       "      <td>1025.0</td>\n",
       "      <td>0.754146</td>\n",
       "      <td>1.030798</td>\n",
       "      <td>0.0</td>\n",
       "      <td>0.0</td>\n",
       "      <td>0.0</td>\n",
       "      <td>1.0</td>\n",
       "      <td>4.0</td>\n",
       "    </tr>\n",
       "    <tr>\n",
       "      <th>thal</th>\n",
       "      <td>1025.0</td>\n",
       "      <td>2.323902</td>\n",
       "      <td>0.620660</td>\n",
       "      <td>0.0</td>\n",
       "      <td>2.0</td>\n",
       "      <td>2.0</td>\n",
       "      <td>3.0</td>\n",
       "      <td>3.0</td>\n",
       "    </tr>\n",
       "    <tr>\n",
       "      <th>target</th>\n",
       "      <td>1025.0</td>\n",
       "      <td>0.513171</td>\n",
       "      <td>0.500070</td>\n",
       "      <td>0.0</td>\n",
       "      <td>0.0</td>\n",
       "      <td>1.0</td>\n",
       "      <td>1.0</td>\n",
       "      <td>1.0</td>\n",
       "    </tr>\n",
       "  </tbody>\n",
       "</table>\n",
       "</div>"
      ],
      "text/plain": [
       "           count        mean        std    min    25%    50%    75%    max\n",
       "age       1025.0   54.434146   9.072290   29.0   48.0   56.0   61.0   77.0\n",
       "sex       1025.0    0.695610   0.460373    0.0    0.0    1.0    1.0    1.0\n",
       "cp        1025.0    0.942439   1.029641    0.0    0.0    1.0    2.0    3.0\n",
       "trestbps  1025.0  131.611707  17.516718   94.0  120.0  130.0  140.0  200.0\n",
       "chol      1025.0  246.000000  51.592510  126.0  211.0  240.0  275.0  564.0\n",
       "fbs       1025.0    0.149268   0.356527    0.0    0.0    0.0    0.0    1.0\n",
       "restecg   1025.0    0.529756   0.527878    0.0    0.0    1.0    1.0    2.0\n",
       "thalach   1025.0  149.114146  23.005724   71.0  132.0  152.0  166.0  202.0\n",
       "exang     1025.0    0.336585   0.472772    0.0    0.0    0.0    1.0    1.0\n",
       "oldpeak   1025.0    1.071512   1.175053    0.0    0.0    0.8    1.8    6.2\n",
       "slope     1025.0    1.385366   0.617755    0.0    1.0    1.0    2.0    2.0\n",
       "ca        1025.0    0.754146   1.030798    0.0    0.0    0.0    1.0    4.0\n",
       "thal      1025.0    2.323902   0.620660    0.0    2.0    2.0    3.0    3.0\n",
       "target    1025.0    0.513171   0.500070    0.0    0.0    1.0    1.0    1.0"
      ]
     },
     "execution_count": 7,
     "metadata": {},
     "output_type": "execute_result"
    }
   ],
   "source": [
    "#Generating descriptive statistics.\n",
    "df.describe().T"
   ]
  },
  {
   "cell_type": "markdown",
   "id": "psychological-decrease",
   "metadata": {
    "papermill": {
     "duration": 0.066059,
     "end_time": "2021-10-18T08:01:17.408293",
     "exception": false,
     "start_time": "2021-10-18T08:01:17.342234",
     "status": "completed"
    },
    "tags": []
   },
   "source": [
    "# EDA"
   ]
  },
  {
   "cell_type": "markdown",
   "id": "external-giant",
   "metadata": {
    "papermill": {
     "duration": 0.06678,
     "end_time": "2021-10-18T08:01:17.532477",
     "exception": false,
     "start_time": "2021-10-18T08:01:17.465697",
     "status": "completed"
    },
    "tags": []
   },
   "source": [
    "`Let's find how many people have heart disease and how many people doesn't have heart disease?`"
   ]
  },
  {
   "cell_type": "code",
   "execution_count": 8,
   "id": "fifty-employee",
   "metadata": {
    "execution": {
     "iopub.execute_input": "2021-10-18T08:01:17.692762Z",
     "iopub.status.busy": "2021-10-18T08:01:17.691809Z",
     "iopub.status.idle": "2021-10-18T08:01:17.699976Z",
     "shell.execute_reply": "2021-10-18T08:01:17.700760Z",
     "shell.execute_reply.started": "2021-06-19T09:57:21.942192Z"
    },
    "papermill": {
     "duration": 0.084793,
     "end_time": "2021-10-18T08:01:17.701012",
     "exception": false,
     "start_time": "2021-10-18T08:01:17.616219",
     "status": "completed"
    },
    "tags": []
   },
   "outputs": [
    {
     "data": {
      "text/plain": [
       "1    526\n",
       "0    499\n",
       "Name: target, dtype: int64"
      ]
     },
     "execution_count": 8,
     "metadata": {},
     "output_type": "execute_result"
    }
   ],
   "source": [
    "#finging the values\n",
    "df.target.value_counts()"
   ]
  },
  {
   "cell_type": "code",
   "execution_count": 9,
   "id": "aquatic-climb",
   "metadata": {
    "execution": {
     "iopub.execute_input": "2021-10-18T08:01:17.842328Z",
     "iopub.status.busy": "2021-10-18T08:01:17.840892Z",
     "iopub.status.idle": "2021-10-18T08:01:18.014880Z",
     "shell.execute_reply": "2021-10-18T08:01:18.014075Z",
     "shell.execute_reply.started": "2021-06-19T09:57:21.952239Z"
    },
    "papermill": {
     "duration": 0.235692,
     "end_time": "2021-10-18T08:01:18.015111",
     "exception": false,
     "start_time": "2021-10-18T08:01:17.779419",
     "status": "completed"
    },
    "tags": []
   },
   "outputs": [
    {
     "data": {
      "image/png": "[encoded data removed]",
      "text/plain": [
       "<Figure size 432x288 with 1 Axes>"
      ]
     },
     "metadata": {
      "needs_background": "light"
     },
     "output_type": "display_data"
    }
   ],
   "source": [
    "#plotting bar chart.\n",
    "fig = df.target.value_counts().plot(kind = 'bar', color=[\"lightblue\", 'lightgreen'])\n",
    "fig.set_xticklabels(labels=['Has heart disease', \"Doesn't have heart disease\"], rotation=0);\n",
    "plt.title(\"Heart Disease values\")\n",
    "plt.ylabel(\"Amount\");"
   ]
  },
  {
   "cell_type": "code",
   "execution_count": 10,
   "id": "bright-modeling",
   "metadata": {
    "execution": {
     "iopub.execute_input": "2021-10-18T08:01:18.164208Z",
     "iopub.status.busy": "2021-10-18T08:01:18.161831Z",
     "iopub.status.idle": "2021-10-18T08:01:18.259851Z",
     "shell.execute_reply": "2021-10-18T08:01:18.260329Z",
     "shell.execute_reply.started": "2021-06-19T09:57:22.146941Z"
    },
    "papermill": {
     "duration": 0.178786,
     "end_time": "2021-10-18T08:01:18.260497",
     "exception": false,
     "start_time": "2021-10-18T08:01:18.081711",
     "status": "completed"
    },
    "tags": []
   },
   "outputs": [
    {
     "data": {
      "image/png": "[encoded data removed]",
      "text/plain": [
       "<Figure size 432x288 with 1 Axes>"
      ]
     },
     "metadata": {},
     "output_type": "display_data"
    }
   ],
   "source": [
    "#visualizing in Pie chart\n",
    "labels = \"Has heart disease\", \"Doesn't have heart disease\"\n",
    "explode = (0, 0)\n",
    "\n",
    "fig1, ax1 = plt.subplots()\n",
    "ax1.pie(df.target.value_counts(), explode=explode, labels=labels, autopct='%1.1f%%',\n",
    "        shadow=True, startangle=90)\n",
    "ax1.axis('equal')\n",
    "plt.show()"
   ]
  },
  {
   "cell_type": "markdown",
   "id": "located-canvas",
   "metadata": {
    "papermill": {
     "duration": 0.05996,
     "end_time": "2021-10-18T08:01:18.379021",
     "exception": false,
     "start_time": "2021-10-18T08:01:18.319061",
     "status": "completed"
    },
    "tags": []
   },
   "source": [
    "Now let's check how many `Male` and `Female` are in the dataset"
   ]
  },
  {
   "cell_type": "code",
   "execution_count": 11,
   "id": "recent-spanish",
   "metadata": {
    "execution": {
     "iopub.execute_input": "2021-10-18T08:01:18.503152Z",
     "iopub.status.busy": "2021-10-18T08:01:18.502489Z",
     "iopub.status.idle": "2021-10-18T08:01:18.508768Z",
     "shell.execute_reply": "2021-10-18T08:01:18.508290Z",
     "shell.execute_reply.started": "2021-06-19T09:57:22.270908Z"
    },
    "papermill": {
     "duration": 0.072054,
     "end_time": "2021-10-18T08:01:18.508912",
     "exception": false,
     "start_time": "2021-10-18T08:01:18.436858",
     "status": "completed"
    },
    "tags": []
   },
   "outputs": [
    {
     "data": {
      "text/plain": [
       "1    713\n",
       "0    312\n",
       "Name: sex, dtype: int64"
      ]
     },
     "execution_count": 11,
     "metadata": {},
     "output_type": "execute_result"
    }
   ],
   "source": [
    "df.sex.value_counts()"
   ]
  },
  {
   "cell_type": "code",
   "execution_count": 12,
   "id": "passive-genome",
   "metadata": {
    "execution": {
     "iopub.execute_input": "2021-10-18T08:01:18.647004Z",
     "iopub.status.busy": "2021-10-18T08:01:18.646080Z",
     "iopub.status.idle": "2021-10-18T08:01:18.731709Z",
     "shell.execute_reply": "2021-10-18T08:01:18.731098Z",
     "shell.execute_reply.started": "2021-06-19T09:57:22.283398Z"
    },
    "papermill": {
     "duration": 0.165127,
     "end_time": "2021-10-18T08:01:18.731853",
     "exception": false,
     "start_time": "2021-10-18T08:01:18.566726",
     "status": "completed"
    },
    "tags": []
   },
   "outputs": [
    {
     "data": {
      "image/png": "[encoded data removed]",
      "text/plain": [
       "<Figure size 432x288 with 1 Axes>"
      ]
     },
     "metadata": {},
     "output_type": "display_data"
    }
   ],
   "source": [
    "#visualizing in Pie chart\n",
    "labels = 'Male', 'Female'\n",
    "explode = (0, 0)\n",
    "\n",
    "fig1, ax1 = plt.subplots()\n",
    "ax1.pie(df.sex.value_counts(), explode=explode, labels=labels, autopct='%1.1f%%',\n",
    "        shadow=True, startangle=90)\n",
    "ax1.axis('equal')\n",
    "plt.show()"
   ]
  },
  {
   "cell_type": "markdown",
   "id": "novel-venezuela",
   "metadata": {
    "papermill": {
     "duration": 0.077186,
     "end_time": "2021-10-18T08:01:18.892907",
     "exception": false,
     "start_time": "2021-10-18T08:01:18.815721",
     "status": "completed"
    },
    "tags": []
   },
   "source": [
    "`Let's find People of which sex has most heart disease?`"
   ]
  },
  {
   "cell_type": "code",
   "execution_count": 13,
   "id": "spare-client",
   "metadata": {
    "execution": {
     "iopub.execute_input": "2021-10-18T08:01:19.022798Z",
     "iopub.status.busy": "2021-10-18T08:01:19.021779Z",
     "iopub.status.idle": "2021-10-18T08:01:19.059716Z",
     "shell.execute_reply": "2021-10-18T08:01:19.060285Z",
     "shell.execute_reply.started": "2021-06-19T09:57:22.391243Z"
    },
    "papermill": {
     "duration": 0.107862,
     "end_time": "2021-10-18T08:01:19.060456",
     "exception": false,
     "start_time": "2021-10-18T08:01:18.952594",
     "status": "completed"
    },
    "tags": []
   },
   "outputs": [
    {
     "data": {
      "text/html": [
       "<div>\n",
       "<style scoped>\n",
       "    .dataframe tbody tr th:only-of-type {\n",
       "        vertical-align: middle;\n",
       "    }\n",
       "\n",
       "    .dataframe tbody tr th {\n",
       "        vertical-align: top;\n",
       "    }\n",
       "\n",
       "    .dataframe thead th {\n",
       "        text-align: right;\n",
       "    }\n",
       "</style>\n",
       "<table border=\"1\" class=\"dataframe\">\n",
       "  <thead>\n",
       "    <tr style=\"text-align: right;\">\n",
       "      <th>sex</th>\n",
       "      <th>0</th>\n",
       "      <th>1</th>\n",
       "    </tr>\n",
       "    <tr>\n",
       "      <th>target</th>\n",
       "      <th></th>\n",
       "      <th></th>\n",
       "    </tr>\n",
       "  </thead>\n",
       "  <tbody>\n",
       "    <tr>\n",
       "      <th>0</th>\n",
       "      <td>86</td>\n",
       "      <td>413</td>\n",
       "    </tr>\n",
       "    <tr>\n",
       "      <th>1</th>\n",
       "      <td>226</td>\n",
       "      <td>300</td>\n",
       "    </tr>\n",
       "  </tbody>\n",
       "</table>\n",
       "</div>"
      ],
      "text/plain": [
       "sex       0    1\n",
       "target          \n",
       "0        86  413\n",
       "1       226  300"
      ]
     },
     "execution_count": 13,
     "metadata": {},
     "output_type": "execute_result"
    }
   ],
   "source": [
    "pd.crosstab(df.target, df.sex)"
   ]
  },
  {
   "cell_type": "code",
   "execution_count": 14,
   "id": "suited-premium",
   "metadata": {
    "execution": {
     "iopub.execute_input": "2021-10-18T08:01:19.185118Z",
     "iopub.status.busy": "2021-10-18T08:01:19.184446Z",
     "iopub.status.idle": "2021-10-18T08:01:19.339458Z",
     "shell.execute_reply": "2021-10-18T08:01:19.339896Z",
     "shell.execute_reply.started": "2021-06-19T09:57:22.440051Z"
    },
    "papermill": {
     "duration": 0.218361,
     "end_time": "2021-10-18T08:01:19.340100",
     "exception": false,
     "start_time": "2021-10-18T08:01:19.121739",
     "status": "completed"
    },
    "tags": []
   },
   "outputs": [
    {
     "data": {
      "image/png": "[encoded data removed]",
      "text/plain": [
       "<Figure size 432x288 with 1 Axes>"
      ]
     },
     "metadata": {
      "needs_background": "light"
     },
     "output_type": "display_data"
    }
   ],
   "source": [
    "fig = sns.countplot(x = 'target', data = df, hue = 'sex')\n",
    "fig.set_xticklabels(labels=[\"Doesn't have heart disease\", 'Has heart disease'], rotation=0)\n",
    "plt.legend(['Female', 'Male'])\n",
    "plt.title(\"Heart Disease Frequency for Sex\");"
   ]
  },
  {
   "cell_type": "markdown",
   "id": "elder-summit",
   "metadata": {
    "papermill": {
     "duration": 0.059892,
     "end_time": "2021-10-18T08:01:19.460602",
     "exception": false,
     "start_time": "2021-10-18T08:01:19.400710",
     "status": "completed"
    },
    "tags": []
   },
   "source": [
    "`Let's find people of which sex has which type of chest pain most?`"
   ]
  },
  {
   "cell_type": "code",
   "execution_count": 15,
   "id": "distant-reality",
   "metadata": {
    "execution": {
     "iopub.execute_input": "2021-10-18T08:01:19.586091Z",
     "iopub.status.busy": "2021-10-18T08:01:19.585412Z",
     "iopub.status.idle": "2021-10-18T08:01:19.592641Z",
     "shell.execute_reply": "2021-10-18T08:01:19.593117Z",
     "shell.execute_reply.started": "2021-06-19T09:57:22.601962Z"
    },
    "papermill": {
     "duration": 0.070912,
     "end_time": "2021-10-18T08:01:19.593304",
     "exception": false,
     "start_time": "2021-10-18T08:01:19.522392",
     "status": "completed"
    },
    "tags": []
   },
   "outputs": [
    {
     "data": {
      "text/plain": [
       "0    497\n",
       "2    284\n",
       "1    167\n",
       "3     77\n",
       "Name: cp, dtype: int64"
      ]
     },
     "execution_count": 15,
     "metadata": {},
     "output_type": "execute_result"
    }
   ],
   "source": [
    "#counting values for different chest pain\n",
    "df.cp.value_counts()"
   ]
  },
  {
   "cell_type": "code",
   "execution_count": 16,
   "id": "hundred-irish",
   "metadata": {
    "execution": {
     "iopub.execute_input": "2021-10-18T08:01:19.735493Z",
     "iopub.status.busy": "2021-10-18T08:01:19.734763Z",
     "iopub.status.idle": "2021-10-18T08:01:19.845648Z",
     "shell.execute_reply": "2021-10-18T08:01:19.845008Z",
     "shell.execute_reply.started": "2021-06-19T09:57:22.610258Z"
    },
    "papermill": {
     "duration": 0.192818,
     "end_time": "2021-10-18T08:01:19.845789",
     "exception": false,
     "start_time": "2021-10-18T08:01:19.652971",
     "status": "completed"
    },
    "tags": []
   },
   "outputs": [
    {
     "data": {
      "image/png": "[encoded data removed]",
      "text/plain": [
       "<Figure size 432x288 with 1 Axes>"
      ]
     },
     "metadata": {
      "needs_background": "light"
     },
     "output_type": "display_data"
    }
   ],
   "source": [
    "#plotting a bar chart\n",
    "fig = df.cp.value_counts().plot(kind = 'bar', color = ['salmon', 'lightskyblue', 'springgreen', 'khaki'])\n",
    "fig.set_xticklabels(labels=['pain type 0', 'pain type 1', 'pain type 2', 'pain type 3'], rotation=0)\n",
    "\n",
    "plt.title('Chest pain type vs count');"
   ]
  },
  {
   "cell_type": "code",
   "execution_count": 17,
   "id": "loaded-commitment",
   "metadata": {
    "execution": {
     "iopub.execute_input": "2021-10-18T08:01:19.980629Z",
     "iopub.status.busy": "2021-10-18T08:01:19.979493Z",
     "iopub.status.idle": "2021-10-18T08:01:19.998851Z",
     "shell.execute_reply": "2021-10-18T08:01:19.999370Z",
     "shell.execute_reply.started": "2021-06-19T09:57:22.757062Z"
    },
    "papermill": {
     "duration": 0.088823,
     "end_time": "2021-10-18T08:01:19.999545",
     "exception": false,
     "start_time": "2021-10-18T08:01:19.910722",
     "status": "completed"
    },
    "tags": []
   },
   "outputs": [
    {
     "data": {
      "text/html": [
       "<div>\n",
       "<style scoped>\n",
       "    .dataframe tbody tr th:only-of-type {\n",
       "        vertical-align: middle;\n",
       "    }\n",
       "\n",
       "    .dataframe tbody tr th {\n",
       "        vertical-align: top;\n",
       "    }\n",
       "\n",
       "    .dataframe thead th {\n",
       "        text-align: right;\n",
       "    }\n",
       "</style>\n",
       "<table border=\"1\" class=\"dataframe\">\n",
       "  <thead>\n",
       "    <tr style=\"text-align: right;\">\n",
       "      <th>cp</th>\n",
       "      <th>0</th>\n",
       "      <th>1</th>\n",
       "      <th>2</th>\n",
       "      <th>3</th>\n",
       "    </tr>\n",
       "    <tr>\n",
       "      <th>sex</th>\n",
       "      <th></th>\n",
       "      <th></th>\n",
       "      <th></th>\n",
       "      <th></th>\n",
       "    </tr>\n",
       "  </thead>\n",
       "  <tbody>\n",
       "    <tr>\n",
       "      <th>0</th>\n",
       "      <td>133</td>\n",
       "      <td>57</td>\n",
       "      <td>109</td>\n",
       "      <td>13</td>\n",
       "    </tr>\n",
       "    <tr>\n",
       "      <th>1</th>\n",
       "      <td>364</td>\n",
       "      <td>110</td>\n",
       "      <td>175</td>\n",
       "      <td>64</td>\n",
       "    </tr>\n",
       "  </tbody>\n",
       "</table>\n",
       "</div>"
      ],
      "text/plain": [
       "cp     0    1    2   3\n",
       "sex                   \n",
       "0    133   57  109  13\n",
       "1    364  110  175  64"
      ]
     },
     "execution_count": 17,
     "metadata": {},
     "output_type": "execute_result"
    }
   ],
   "source": [
    "pd.crosstab(df.sex, df.cp)"
   ]
  },
  {
   "cell_type": "code",
   "execution_count": 18,
   "id": "polyphonic-arabic",
   "metadata": {
    "execution": {
     "iopub.execute_input": "2021-10-18T08:01:20.138700Z",
     "iopub.status.busy": "2021-10-18T08:01:20.137982Z",
     "iopub.status.idle": "2021-10-18T08:01:20.326539Z",
     "shell.execute_reply": "2021-10-18T08:01:20.327126Z",
     "shell.execute_reply.started": "2021-06-19T09:57:22.782554Z"
    },
    "papermill": {
     "duration": 0.260829,
     "end_time": "2021-10-18T08:01:20.327305",
     "exception": false,
     "start_time": "2021-10-18T08:01:20.066476",
     "status": "completed"
    },
    "tags": []
   },
   "outputs": [
    {
     "data": {
      "image/png": "[encoded data removed]",
      "text/plain": [
       "<Figure size 432x288 with 1 Axes>"
      ]
     },
     "metadata": {
      "needs_background": "light"
     },
     "output_type": "display_data"
    }
   ],
   "source": [
    "fig = pd.crosstab(df.sex, df.cp).plot(kind = 'bar', color = ['coral', 'lightskyblue', 'plum', 'khaki'])\n",
    "plt.title('Type of chest pain for sex')\n",
    "fig.set_xticklabels(labels=['Female', 'Male'], rotation=0)\n",
    "plt.legend(['pain type 0', 'pain type 1', 'pain type 2', 'pain type 3']);"
   ]
  },
  {
   "cell_type": "markdown",
   "id": "upset-combat",
   "metadata": {
    "papermill": {
     "duration": 0.064846,
     "end_time": "2021-10-18T08:01:20.457750",
     "exception": false,
     "start_time": "2021-10-18T08:01:20.392904",
     "status": "completed"
    },
    "tags": []
   },
   "source": [
    "`Now let's find people with which chest pain are most pron to have heart disease?`"
   ]
  },
  {
   "cell_type": "code",
   "execution_count": 19,
   "id": "hindu-penalty",
   "metadata": {
    "execution": {
     "iopub.execute_input": "2021-10-18T08:01:20.595419Z",
     "iopub.status.busy": "2021-10-18T08:01:20.594661Z",
     "iopub.status.idle": "2021-10-18T08:01:20.614809Z",
     "shell.execute_reply": "2021-10-18T08:01:20.615309Z",
     "shell.execute_reply.started": "2021-06-19T09:57:22.988737Z"
    },
    "papermill": {
     "duration": 0.089424,
     "end_time": "2021-10-18T08:01:20.615478",
     "exception": false,
     "start_time": "2021-10-18T08:01:20.526054",
     "status": "completed"
    },
    "tags": []
   },
   "outputs": [
    {
     "data": {
      "text/html": [
       "<div>\n",
       "<style scoped>\n",
       "    .dataframe tbody tr th:only-of-type {\n",
       "        vertical-align: middle;\n",
       "    }\n",
       "\n",
       "    .dataframe tbody tr th {\n",
       "        vertical-align: top;\n",
       "    }\n",
       "\n",
       "    .dataframe thead th {\n",
       "        text-align: right;\n",
       "    }\n",
       "</style>\n",
       "<table border=\"1\" class=\"dataframe\">\n",
       "  <thead>\n",
       "    <tr style=\"text-align: right;\">\n",
       "      <th>target</th>\n",
       "      <th>0</th>\n",
       "      <th>1</th>\n",
       "    </tr>\n",
       "    <tr>\n",
       "      <th>cp</th>\n",
       "      <th></th>\n",
       "      <th></th>\n",
       "    </tr>\n",
       "  </thead>\n",
       "  <tbody>\n",
       "    <tr>\n",
       "      <th>0</th>\n",
       "      <td>375</td>\n",
       "      <td>122</td>\n",
       "    </tr>\n",
       "    <tr>\n",
       "      <th>1</th>\n",
       "      <td>33</td>\n",
       "      <td>134</td>\n",
       "    </tr>\n",
       "    <tr>\n",
       "      <th>2</th>\n",
       "      <td>65</td>\n",
       "      <td>219</td>\n",
       "    </tr>\n",
       "    <tr>\n",
       "      <th>3</th>\n",
       "      <td>26</td>\n",
       "      <td>51</td>\n",
       "    </tr>\n",
       "  </tbody>\n",
       "</table>\n",
       "</div>"
      ],
      "text/plain": [
       "target    0    1\n",
       "cp              \n",
       "0       375  122\n",
       "1        33  134\n",
       "2        65  219\n",
       "3        26   51"
      ]
     },
     "execution_count": 19,
     "metadata": {},
     "output_type": "execute_result"
    }
   ],
   "source": [
    "pd.crosstab(df.cp, df.target)"
   ]
  },
  {
   "cell_type": "code",
   "execution_count": 20,
   "id": "solar-truck",
   "metadata": {
    "execution": {
     "iopub.execute_input": "2021-10-18T08:01:20.743533Z",
     "iopub.status.busy": "2021-10-18T08:01:20.742917Z",
     "iopub.status.idle": "2021-10-18T08:01:20.899577Z",
     "shell.execute_reply": "2021-10-18T08:01:20.899021Z",
     "shell.execute_reply.started": "2021-06-19T09:57:23.014533Z"
    },
    "papermill": {
     "duration": 0.222391,
     "end_time": "2021-10-18T08:01:20.899727",
     "exception": false,
     "start_time": "2021-10-18T08:01:20.677336",
     "status": "completed"
    },
    "tags": []
   },
   "outputs": [
    {
     "data": {
      "image/png": "[encoded data removed]",
      "text/plain": [
       "<Figure size 432x288 with 1 Axes>"
      ]
     },
     "metadata": {
      "needs_background": "light"
     },
     "output_type": "display_data"
    }
   ],
   "source": [
    "fig = sns.countplot(x = 'cp', data = df, hue = 'target')\n",
    "fig.set_xticklabels(labels=['pain type 0', 'pain type 1', 'pain type 2', 'pain type 3'], rotation=0)\n",
    "plt.legend(['No disease', 'disease']);"
   ]
  },
  {
   "cell_type": "markdown",
   "id": "cheap-sampling",
   "metadata": {
    "papermill": {
     "duration": 0.061072,
     "end_time": "2021-10-18T08:01:21.023678",
     "exception": false,
     "start_time": "2021-10-18T08:01:20.962606",
     "status": "completed"
    },
    "tags": []
   },
   "source": [
    "Now let's take look at our age column."
   ]
  },
  {
   "cell_type": "code",
   "execution_count": 21,
   "id": "identified-wyoming",
   "metadata": {
    "execution": {
     "iopub.execute_input": "2021-10-18T08:01:21.267134Z",
     "iopub.status.busy": "2021-10-18T08:01:21.266465Z",
     "iopub.status.idle": "2021-10-18T08:01:21.594053Z",
     "shell.execute_reply": "2021-10-18T08:01:21.593435Z",
     "shell.execute_reply.started": "2021-06-19T09:57:23.313847Z"
    },
    "papermill": {
     "duration": 0.508904,
     "end_time": "2021-10-18T08:01:21.594239",
     "exception": false,
     "start_time": "2021-10-18T08:01:21.085335",
     "status": "completed"
    },
    "tags": []
   },
   "outputs": [
    {
     "data": {
      "image/png": "[encoded data removed]",
      "text/plain": [
       "<Figure size 360x360 with 1 Axes>"
      ]
     },
     "metadata": {
      "needs_background": "light"
     },
     "output_type": "display_data"
    }
   ],
   "source": [
    "#create a distribution plot with normal distribution curve\n",
    "sns.displot( x = 'age', data = df, bins = 30, kde = True)\n",
    "skewness=str(df[\"age\"].skew())\n",
    "kurtosis=str(df[\"age\"].kurt())\n",
    "plt.legend([skewness,kurtosis],title=(\"skewness and kurtosis\"))\n",
    "plt.show();"
   ]
  },
  {
   "cell_type": "markdown",
   "id": "gentle-volunteer",
   "metadata": {
    "papermill": {
     "duration": 0.064456,
     "end_time": "2021-10-18T08:01:21.721837",
     "exception": false,
     "start_time": "2021-10-18T08:01:21.657381",
     "status": "completed"
    },
    "tags": []
   },
   "source": [
    "Let's plot another distribution plot for `Maximum heart rate`"
   ]
  },
  {
   "cell_type": "code",
   "execution_count": 22,
   "id": "floppy-probe",
   "metadata": {
    "execution": {
     "iopub.execute_input": "2021-10-18T08:01:21.854474Z",
     "iopub.status.busy": "2021-10-18T08:01:21.853794Z",
     "iopub.status.idle": "2021-10-18T08:01:22.198244Z",
     "shell.execute_reply": "2021-10-18T08:01:22.197502Z",
     "shell.execute_reply.started": "2021-06-19T09:57:23.693704Z"
    },
    "papermill": {
     "duration": 0.413705,
     "end_time": "2021-10-18T08:01:22.198391",
     "exception": false,
     "start_time": "2021-10-18T08:01:21.784686",
     "status": "completed"
    },
    "tags": []
   },
   "outputs": [
    {
     "data": {
      "image/png": "[encoded data removed]",
      "text/plain": [
       "<Figure size 360x360 with 1 Axes>"
      ]
     },
     "metadata": {
      "needs_background": "light"
     },
     "output_type": "display_data"
    }
   ],
   "source": [
    "sns.displot(x = 'thalach', data = df, bins = 30, kde = True, color = 'chocolate')\n",
    "skewness=str(df[\"thalach\"].skew())\n",
    "kurtosis=str(df[\"thalach\"].kurt())\n",
    "plt.legend([skewness,kurtosis],title=(\"skewness and kurtosis\"))\n",
    "plt.show();"
   ]
  },
  {
   "cell_type": "markdown",
   "id": "contemporary-heath",
   "metadata": {
    "papermill": {
     "duration": 0.063414,
     "end_time": "2021-10-18T08:01:22.330940",
     "exception": false,
     "start_time": "2021-10-18T08:01:22.267526",
     "status": "completed"
    },
    "tags": []
   },
   "source": [
    "`Now let's observe Age vs Maximum heart rate when people have heart disease.`"
   ]
  },
  {
   "cell_type": "code",
   "execution_count": 23,
   "id": "grand-dream",
   "metadata": {
    "execution": {
     "iopub.execute_input": "2021-10-18T08:01:22.495095Z",
     "iopub.status.busy": "2021-10-18T08:01:22.494405Z",
     "iopub.status.idle": "2021-10-18T08:01:22.674904Z",
     "shell.execute_reply": "2021-10-18T08:01:22.673981Z",
     "shell.execute_reply.started": "2021-06-19T09:57:24.080495Z"
    },
    "papermill": {
     "duration": 0.27676,
     "end_time": "2021-10-18T08:01:22.675071",
     "exception": false,
     "start_time": "2021-10-18T08:01:22.398311",
     "status": "completed"
    },
    "tags": []
   },
   "outputs": [
    {
     "data": {
      "image/png": "[encoded data removed]",
      "text/plain": [
       "<Figure size 720x432 with 1 Axes>"
      ]
     },
     "metadata": {
      "needs_background": "light"
     },
     "output_type": "display_data"
    }
   ],
   "source": [
    "# Creating a figure\n",
    "plt.figure(figsize=(10,6))\n",
    "\n",
    "#plotting the values for people who have heart disease\n",
    "plt.scatter(df.age[df.target==1], \n",
    "            df.thalach[df.target==1], \n",
    "            c=\"tomato\")\n",
    "\n",
    "#plotting the values for people who doesn't have heart disease\n",
    "plt.scatter(df.age[df.target==0], \n",
    "            df.thalach[df.target==0], \n",
    "            c=\"lightgreen\")\n",
    "\n",
    "# Addind info\n",
    "plt.title(\"Heart Disease w.r.t Age and Max Heart Rate\")\n",
    "plt.xlabel(\"Age\")\n",
    "plt.legend([\"Disease\", \"No Disease\"])\n",
    "plt.ylabel(\"Max Heart Rate\");"
   ]
  },
  {
   "cell_type": "markdown",
   "id": "union-distance",
   "metadata": {
    "papermill": {
     "duration": 0.064113,
     "end_time": "2021-10-18T08:01:22.808262",
     "exception": false,
     "start_time": "2021-10-18T08:01:22.744149",
     "status": "completed"
    },
    "tags": []
   },
   "source": [
    "Let's make a density curve for visualizing the distribution of `age` and `thalach`(Maximum Heart Rate) observations in our dataset. "
   ]
  },
  {
   "cell_type": "code",
   "execution_count": 24,
   "id": "western-conditions",
   "metadata": {
    "execution": {
     "iopub.execute_input": "2021-10-18T08:01:22.948940Z",
     "iopub.status.busy": "2021-10-18T08:01:22.948071Z",
     "iopub.status.idle": "2021-10-18T08:01:24.039632Z",
     "shell.execute_reply": "2021-10-18T08:01:24.039137Z",
     "shell.execute_reply.started": "2021-06-19T09:57:24.318306Z"
    },
    "papermill": {
     "duration": 1.165881,
     "end_time": "2021-10-18T08:01:24.039789",
     "exception": false,
     "start_time": "2021-10-18T08:01:22.873908",
     "status": "completed"
    },
    "tags": []
   },
   "outputs": [
    {
     "data": {
      "image/png": "[encoded data removed]",
      "text/plain": [
       "<Figure size 432x288 with 1 Axes>"
      ]
     },
     "metadata": {
      "needs_background": "light"
     },
     "output_type": "display_data"
    }
   ],
   "source": [
    "sns.kdeplot(x = 'age', y = 'thalach', data = df, color = 'darkcyan');"
   ]
  },
  {
   "cell_type": "markdown",
   "id": "generic-money",
   "metadata": {
    "papermill": {
     "duration": 0.070764,
     "end_time": "2021-10-18T08:01:24.178342",
     "exception": false,
     "start_time": "2021-10-18T08:01:24.107578",
     "status": "completed"
    },
    "tags": []
   },
   "source": [
    "Let's see a distribution plot for `number of people with heart disease` vs `max heart rate`"
   ]
  },
  {
   "cell_type": "code",
   "execution_count": 25,
   "id": "pursuant-insulation",
   "metadata": {
    "execution": {
     "iopub.execute_input": "2021-10-18T08:01:24.342650Z",
     "iopub.status.busy": "2021-10-18T08:01:24.324680Z",
     "iopub.status.idle": "2021-10-18T08:01:24.686023Z",
     "shell.execute_reply": "2021-10-18T08:01:24.685371Z",
     "shell.execute_reply.started": "2021-06-19T09:57:25.419153Z"
    },
    "papermill": {
     "duration": 0.438542,
     "end_time": "2021-10-18T08:01:24.686182",
     "exception": false,
     "start_time": "2021-10-18T08:01:24.247640",
     "status": "completed"
    },
    "tags": []
   },
   "outputs": [
    {
     "data": {
      "image/png": "[encoded data removed]",
      "text/plain": [
       "<Figure size 360x360 with 1 Axes>"
      ]
     },
     "metadata": {
      "needs_background": "light"
     },
     "output_type": "display_data"
    }
   ],
   "source": [
    "sns.displot(x = df.thalach[df.target==1], data = df, kde = True, color= 'olive')\n",
    "skewness=str(df.thalach[df.target==1].skew())\n",
    "kurtosis=str(df.thalach[df.target==1].kurt())\n",
    "plt.legend([skewness,kurtosis],title=(\"skewness and kurtosis\"))\n",
    "plt.title(\"Maximum heart achieved of peple with heart disease\")\n",
    "plt.xlabel(\"Maximum heart rate achieved\")\n",
    "plt.ylabel(\"Number of people with heart disease\");"
   ]
  },
  {
   "cell_type": "markdown",
   "id": "enabling-idaho",
   "metadata": {
    "papermill": {
     "duration": 0.070538,
     "end_time": "2021-10-18T08:01:24.829328",
     "exception": false,
     "start_time": "2021-10-18T08:01:24.758790",
     "status": "completed"
    },
    "tags": []
   },
   "source": [
    "Distribution plot for `number of people without heart disease` vs `max heart rate`"
   ]
  },
  {
   "cell_type": "code",
   "execution_count": 26,
   "id": "determined-turner",
   "metadata": {
    "execution": {
     "iopub.execute_input": "2021-10-18T08:01:25.044038Z",
     "iopub.status.busy": "2021-10-18T08:01:25.043365Z",
     "iopub.status.idle": "2021-10-18T08:01:25.372290Z",
     "shell.execute_reply": "2021-10-18T08:01:25.372708Z",
     "shell.execute_reply.started": "2021-06-19T09:57:25.775274Z"
    },
    "papermill": {
     "duration": 0.474447,
     "end_time": "2021-10-18T08:01:25.372877",
     "exception": false,
     "start_time": "2021-10-18T08:01:24.898430",
     "status": "completed"
    },
    "tags": []
   },
   "outputs": [
    {
     "data": {
      "image/png": "[encoded data removed]",
      "text/plain": [
       "<Figure size 360x360 with 1 Axes>"
      ]
     },
     "metadata": {
      "needs_background": "light"
     },
     "output_type": "display_data"
    }
   ],
   "source": [
    "sns.displot(x = df.thalach[df.target==0], data = df, kde = True, color= 'slategray')\n",
    "skewness=str(df.thalach[df.target==0].skew())\n",
    "kurtosis=str(df.thalach[df.target==0].kurt())\n",
    "plt.legend([skewness,kurtosis],title=(\"skewness and kurtosis\"))\n",
    "plt.title(\"Maximum heart achieved of people without heart disease\")\n",
    "plt.xlabel(\"Maximum heart rate achieved\")\n",
    "plt.ylabel(\"Number of people without heart disease\");"
   ]
  },
  {
   "cell_type": "markdown",
   "id": "challenging-pressure",
   "metadata": {
    "papermill": {
     "duration": 0.069581,
     "end_time": "2021-10-18T08:01:25.513639",
     "exception": false,
     "start_time": "2021-10-18T08:01:25.444058",
     "status": "completed"
    },
    "tags": []
   },
   "source": [
    "`Now let's observe Age vs Serum Cholestoral when people have heart disease.`"
   ]
  },
  {
   "cell_type": "markdown",
   "id": "confidential-sessions",
   "metadata": {
    "papermill": {
     "duration": 0.071307,
     "end_time": "2021-10-18T08:01:25.655915",
     "exception": false,
     "start_time": "2021-10-18T08:01:25.584608",
     "status": "completed"
    },
    "tags": []
   },
   "source": [
    "Now, let's make a distribution plot for serum cholestoral"
   ]
  },
  {
   "cell_type": "code",
   "execution_count": 27,
   "id": "historic-campus",
   "metadata": {
    "execution": {
     "iopub.execute_input": "2021-10-18T08:01:25.795841Z",
     "iopub.status.busy": "2021-10-18T08:01:25.795138Z",
     "iopub.status.idle": "2021-10-18T08:01:26.144014Z",
     "shell.execute_reply": "2021-10-18T08:01:26.144460Z",
     "shell.execute_reply.started": "2021-06-19T09:57:26.157158Z"
    },
    "papermill": {
     "duration": 0.420712,
     "end_time": "2021-10-18T08:01:26.144642",
     "exception": false,
     "start_time": "2021-10-18T08:01:25.723930",
     "status": "completed"
    },
    "tags": []
   },
   "outputs": [
    {
     "data": {
      "image/png": "[encoded data removed]",
      "text/plain": [
       "<Figure size 360x360 with 1 Axes>"
      ]
     },
     "metadata": {
      "needs_background": "light"
     },
     "output_type": "display_data"
    }
   ],
   "source": [
    "sns.displot(x = 'chol', data = df, bins = 30, kde = True, color = 'teal')\n",
    "skewness=str(df['chol'].skew())\n",
    "kurtosis=str(df['chol'].kurt())\n",
    "plt.legend([skewness,kurtosis],title=(\"skewness and kurtosis\"));"
   ]
  },
  {
   "cell_type": "markdown",
   "id": "coupled-botswana",
   "metadata": {
    "papermill": {
     "duration": 0.070109,
     "end_time": "2021-10-18T08:01:26.286193",
     "exception": false,
     "start_time": "2021-10-18T08:01:26.216084",
     "status": "completed"
    },
    "tags": []
   },
   "source": [
    "Now let's plot another scatter plot for Age vs serum cholestoral"
   ]
  },
  {
   "cell_type": "code",
   "execution_count": 28,
   "id": "urban-lunch",
   "metadata": {
    "execution": {
     "iopub.execute_input": "2021-10-18T08:01:26.432581Z",
     "iopub.status.busy": "2021-10-18T08:01:26.431920Z",
     "iopub.status.idle": "2021-10-18T08:01:26.631230Z",
     "shell.execute_reply": "2021-10-18T08:01:26.631842Z",
     "shell.execute_reply.started": "2021-06-19T09:57:26.532364Z"
    },
    "papermill": {
     "duration": 0.273887,
     "end_time": "2021-10-18T08:01:26.632063",
     "exception": false,
     "start_time": "2021-10-18T08:01:26.358176",
     "status": "completed"
    },
    "tags": []
   },
   "outputs": [
    {
     "data": {
      "image/png": "[encoded data removed]",
      "text/plain": [
       "<Figure size 720x432 with 1 Axes>"
      ]
     },
     "metadata": {
      "needs_background": "light"
     },
     "output_type": "display_data"
    }
   ],
   "source": [
    "# Creating another figure\n",
    "plt.figure(figsize=(10,6))\n",
    "\n",
    "#plotting the values for people who have heart disease\n",
    "plt.scatter(df.age[df.target==1], \n",
    "            df.chol[df.target==1], \n",
    "            c=\"salmon\") # define it as a scatter figure\n",
    "\n",
    "#plotting the values for people who doesn't have heart disease\n",
    "plt.scatter(df.age[df.target==0], \n",
    "            df.chol[df.target==0], \n",
    "            c=\"lightblue\") # axis always come as (x, y)\n",
    "\n",
    "# Add some helpful info\n",
    "plt.title(\"Heart Disease w.r.t Age and Serum Cholestoral\")\n",
    "plt.xlabel(\"Age\")\n",
    "plt.legend([\"Disease\", \"No Disease\"])\n",
    "plt.ylabel(\"Serum cholestoral\");"
   ]
  },
  {
   "cell_type": "markdown",
   "id": "answering-leader",
   "metadata": {
    "papermill": {
     "duration": 0.074592,
     "end_time": "2021-10-18T08:01:26.777944",
     "exception": false,
     "start_time": "2021-10-18T08:01:26.703352",
     "status": "completed"
    },
    "tags": []
   },
   "source": [
    "Let's make a density curve for visualizing the distribution of `age` and `chol` observations in our dataset. "
   ]
  },
  {
   "cell_type": "code",
   "execution_count": 29,
   "id": "banned-ratio",
   "metadata": {
    "execution": {
     "iopub.execute_input": "2021-10-18T08:01:26.924327Z",
     "iopub.status.busy": "2021-10-18T08:01:26.923664Z",
     "iopub.status.idle": "2021-10-18T08:01:28.010981Z",
     "shell.execute_reply": "2021-10-18T08:01:28.010451Z",
     "shell.execute_reply.started": "2021-06-19T09:57:26.750358Z"
    },
    "papermill": {
     "duration": 1.160995,
     "end_time": "2021-10-18T08:01:28.011165",
     "exception": false,
     "start_time": "2021-10-18T08:01:26.850170",
     "status": "completed"
    },
    "tags": []
   },
   "outputs": [
    {
     "data": {
      "image/png": "[encoded data removed]",
      "text/plain": [
       "<Figure size 432x288 with 1 Axes>"
      ]
     },
     "metadata": {
      "needs_background": "light"
     },
     "output_type": "display_data"
    }
   ],
   "source": [
    "sns.kdeplot(x = 'age', y = 'chol', data = df, color = 'firebrick');"
   ]
  },
  {
   "cell_type": "markdown",
   "id": "dramatic-marijuana",
   "metadata": {
    "papermill": {
     "duration": 0.073031,
     "end_time": "2021-10-18T08:01:28.156210",
     "exception": false,
     "start_time": "2021-10-18T08:01:28.083179",
     "status": "completed"
    },
    "tags": []
   },
   "source": [
    "Distribution plot for `number of people with heart disease` vs `Serum Cholestoral`"
   ]
  },
  {
   "cell_type": "code",
   "execution_count": 30,
   "id": "regulated-mambo",
   "metadata": {
    "execution": {
     "iopub.execute_input": "2021-10-18T08:01:28.311591Z",
     "iopub.status.busy": "2021-10-18T08:01:28.310652Z",
     "iopub.status.idle": "2021-10-18T08:01:28.686431Z",
     "shell.execute_reply": "2021-10-18T08:01:28.685501Z",
     "shell.execute_reply.started": "2021-06-19T09:57:27.883389Z"
    },
    "papermill": {
     "duration": 0.453742,
     "end_time": "2021-10-18T08:01:28.686584",
     "exception": false,
     "start_time": "2021-10-18T08:01:28.232842",
     "status": "completed"
    },
    "tags": []
   },
   "outputs": [
    {
     "data": {
      "image/png": "[encoded data removed]",
      "text/plain": [
       "<Figure size 360x360 with 1 Axes>"
      ]
     },
     "metadata": {
      "needs_background": "light"
     },
     "output_type": "display_data"
    }
   ],
   "source": [
    "sns.displot(x = df.chol[df.target==1], data = df, kde = True, color= 'dodgerblue')\n",
    "skewness=str(df.chol[df.target==1].skew())\n",
    "kurtosis=str(df.chol[df.target==1].kurt())\n",
    "plt.legend([skewness,kurtosis],title=(\"skewness and kurtosis\"));\n",
    "plt.title(\"Serum Cholestoralof people with heart disease\")\n",
    "plt.xlabel(\"Serum Cholestoral\")\n",
    "plt.ylabel(\"Number of people with heart disease\");"
   ]
  },
  {
   "cell_type": "markdown",
   "id": "checked-instrument",
   "metadata": {
    "papermill": {
     "duration": 0.072818,
     "end_time": "2021-10-18T08:01:28.835199",
     "exception": false,
     "start_time": "2021-10-18T08:01:28.762381",
     "status": "completed"
    },
    "tags": []
   },
   "source": [
    "Distribution plot for `number of people without heart disease` vs `Serum Cholestoral`"
   ]
  },
  {
   "cell_type": "code",
   "execution_count": 31,
   "id": "ranking-chapter",
   "metadata": {
    "execution": {
     "iopub.execute_input": "2021-10-18T08:01:29.025160Z",
     "iopub.status.busy": "2021-10-18T08:01:29.016579Z",
     "iopub.status.idle": "2021-10-18T08:01:29.340104Z",
     "shell.execute_reply": "2021-10-18T08:01:29.339636Z",
     "shell.execute_reply.started": "2021-06-19T09:57:28.287812Z"
    },
    "papermill": {
     "duration": 0.432198,
     "end_time": "2021-10-18T08:01:29.340254",
     "exception": false,
     "start_time": "2021-10-18T08:01:28.908056",
     "status": "completed"
    },
    "tags": []
   },
   "outputs": [
    {
     "data": {
      "image/png": "[encoded data removed]",
      "text/plain": [
       "<Figure size 360x360 with 1 Axes>"
      ]
     },
     "metadata": {
      "needs_background": "light"
     },
     "output_type": "display_data"
    }
   ],
   "source": [
    "sns.displot(x = df.chol[df.target==0], data = df, kde = True, color= 'forestgreen')\n",
    "skewness=str(df.chol[df.target==0].skew())\n",
    "kurtosis=str(df.chol[df.target==0].kurt())\n",
    "plt.legend([skewness,kurtosis],title=(\"skewness and kurtosis\"));\n",
    "plt.title(\"Serum Cholestoralof people without heart disease\")\n",
    "plt.xlabel(\"Serum Cholestoral\")\n",
    "plt.ylabel(\"Number of people without heart disease\");"
   ]
  },
  {
   "cell_type": "markdown",
   "id": "essential-portfolio",
   "metadata": {
    "papermill": {
     "duration": 0.073698,
     "end_time": "2021-10-18T08:01:29.491026",
     "exception": false,
     "start_time": "2021-10-18T08:01:29.417328",
     "status": "completed"
    },
    "tags": []
   },
   "source": [
    "`Now let's find People of which sex has more exercise induced angina?`"
   ]
  },
  {
   "cell_type": "code",
   "execution_count": 32,
   "id": "proper-examination",
   "metadata": {
    "execution": {
     "iopub.execute_input": "2021-10-18T08:01:29.646930Z",
     "iopub.status.busy": "2021-10-18T08:01:29.646251Z",
     "iopub.status.idle": "2021-10-18T08:01:29.661903Z",
     "shell.execute_reply": "2021-10-18T08:01:29.662435Z",
     "shell.execute_reply.started": "2021-06-19T09:57:28.663506Z"
    },
    "papermill": {
     "duration": 0.097454,
     "end_time": "2021-10-18T08:01:29.662615",
     "exception": false,
     "start_time": "2021-10-18T08:01:29.565161",
     "status": "completed"
    },
    "tags": []
   },
   "outputs": [
    {
     "data": {
      "text/html": [
       "<div>\n",
       "<style scoped>\n",
       "    .dataframe tbody tr th:only-of-type {\n",
       "        vertical-align: middle;\n",
       "    }\n",
       "\n",
       "    .dataframe tbody tr th {\n",
       "        vertical-align: top;\n",
       "    }\n",
       "\n",
       "    .dataframe thead th {\n",
       "        text-align: right;\n",
       "    }\n",
       "</style>\n",
       "<table border=\"1\" class=\"dataframe\">\n",
       "  <thead>\n",
       "    <tr style=\"text-align: right;\">\n",
       "      <th>sex</th>\n",
       "      <th>0</th>\n",
       "      <th>1</th>\n",
       "    </tr>\n",
       "    <tr>\n",
       "      <th>exang</th>\n",
       "      <th></th>\n",
       "      <th></th>\n",
       "    </tr>\n",
       "  </thead>\n",
       "  <tbody>\n",
       "    <tr>\n",
       "      <th>0</th>\n",
       "      <td>238</td>\n",
       "      <td>442</td>\n",
       "    </tr>\n",
       "    <tr>\n",
       "      <th>1</th>\n",
       "      <td>74</td>\n",
       "      <td>271</td>\n",
       "    </tr>\n",
       "  </tbody>\n",
       "</table>\n",
       "</div>"
      ],
      "text/plain": [
       "sex      0    1\n",
       "exang          \n",
       "0      238  442\n",
       "1       74  271"
      ]
     },
     "execution_count": 32,
     "metadata": {},
     "output_type": "execute_result"
    }
   ],
   "source": [
    "pd.crosstab(df.exang, df.sex)"
   ]
  },
  {
   "cell_type": "code",
   "execution_count": 33,
   "id": "senior-brisbane",
   "metadata": {
    "execution": {
     "iopub.execute_input": "2021-10-18T08:01:29.839076Z",
     "iopub.status.busy": "2021-10-18T08:01:29.838388Z",
     "iopub.status.idle": "2021-10-18T08:01:29.979128Z",
     "shell.execute_reply": "2021-10-18T08:01:29.979594Z",
     "shell.execute_reply.started": "2021-06-19T09:57:28.687427Z"
    },
    "papermill": {
     "duration": 0.2409,
     "end_time": "2021-10-18T08:01:29.979822",
     "exception": false,
     "start_time": "2021-10-18T08:01:29.738922",
     "status": "completed"
    },
    "tags": []
   },
   "outputs": [
    {
     "data": {
      "image/png": "[encoded data removed]",
      "text/plain": [
       "<Figure size 432x288 with 1 Axes>"
      ]
     },
     "metadata": {
      "needs_background": "light"
     },
     "output_type": "display_data"
    }
   ],
   "source": [
    "fig = sns.countplot(x = 'exang', data = df, hue = 'sex')\n",
    "plt.title('Exercise induced angina for sex')\n",
    "fig.set_xticklabels(labels=[\"Doesn't have exang\", 'Has exang'], rotation=0)\n",
    "plt.legend(['Female', 'Male']);"
   ]
  },
  {
   "cell_type": "markdown",
   "id": "occupied-offset",
   "metadata": {
    "papermill": {
     "duration": 0.075706,
     "end_time": "2021-10-18T08:01:30.133171",
     "exception": false,
     "start_time": "2021-10-18T08:01:30.057465",
     "status": "completed"
    },
    "tags": []
   },
   "source": [
    "`Which sex of people has more fasting blood sugar > 120 mg/dl?`"
   ]
  },
  {
   "cell_type": "code",
   "execution_count": 34,
   "id": "precious-stable",
   "metadata": {
    "execution": {
     "iopub.execute_input": "2021-10-18T08:01:30.289240Z",
     "iopub.status.busy": "2021-10-18T08:01:30.288582Z",
     "iopub.status.idle": "2021-10-18T08:01:30.294848Z",
     "shell.execute_reply": "2021-10-18T08:01:30.295324Z",
     "shell.execute_reply.started": "2021-06-19T09:57:28.837621Z"
    },
    "papermill": {
     "duration": 0.085458,
     "end_time": "2021-10-18T08:01:30.295510",
     "exception": false,
     "start_time": "2021-10-18T08:01:30.210052",
     "status": "completed"
    },
    "tags": []
   },
   "outputs": [
    {
     "data": {
      "text/plain": [
       "0    872\n",
       "1    153\n",
       "Name: fbs, dtype: int64"
      ]
     },
     "execution_count": 34,
     "metadata": {},
     "output_type": "execute_result"
    }
   ],
   "source": [
    "df.fbs.value_counts()"
   ]
  },
  {
   "cell_type": "code",
   "execution_count": 35,
   "id": "backed-throat",
   "metadata": {
    "execution": {
     "iopub.execute_input": "2021-10-18T08:01:30.452566Z",
     "iopub.status.busy": "2021-10-18T08:01:30.451925Z",
     "iopub.status.idle": "2021-10-18T08:01:30.561554Z",
     "shell.execute_reply": "2021-10-18T08:01:30.560909Z",
     "shell.execute_reply.started": "2021-06-19T09:57:28.847239Z"
    },
    "papermill": {
     "duration": 0.188757,
     "end_time": "2021-10-18T08:01:30.561716",
     "exception": false,
     "start_time": "2021-10-18T08:01:30.372959",
     "status": "completed"
    },
    "tags": []
   },
   "outputs": [
    {
     "data": {
      "image/png": "[encoded data removed]",
      "text/plain": [
       "<Figure size 432x288 with 1 Axes>"
      ]
     },
     "metadata": {},
     "output_type": "display_data"
    }
   ],
   "source": [
    "#visualizing in Pie chart\n",
    "labels = 'fbs<120 mg/dl', 'fbs>120 mg/dl'\n",
    "explode = (0, 0)\n",
    "\n",
    "fig1, ax1 = plt.subplots()\n",
    "ax1.pie(df.fbs.value_counts(), explode=explode, labels=labels, autopct='%1.1f%%',\n",
    "        shadow=True, startangle=90)\n",
    "ax1.axis('equal')\n",
    "plt.show()"
   ]
  },
  {
   "cell_type": "code",
   "execution_count": 36,
   "id": "rental-vector",
   "metadata": {
    "execution": {
     "iopub.execute_input": "2021-10-18T08:01:30.726691Z",
     "iopub.status.busy": "2021-10-18T08:01:30.726055Z",
     "iopub.status.idle": "2021-10-18T08:01:30.742360Z",
     "shell.execute_reply": "2021-10-18T08:01:30.742888Z",
     "shell.execute_reply.started": "2021-06-19T09:57:28.982708Z"
    },
    "papermill": {
     "duration": 0.104066,
     "end_time": "2021-10-18T08:01:30.743145",
     "exception": false,
     "start_time": "2021-10-18T08:01:30.639079",
     "status": "completed"
    },
    "tags": []
   },
   "outputs": [
    {
     "data": {
      "text/html": [
       "<div>\n",
       "<style scoped>\n",
       "    .dataframe tbody tr th:only-of-type {\n",
       "        vertical-align: middle;\n",
       "    }\n",
       "\n",
       "    .dataframe tbody tr th {\n",
       "        vertical-align: top;\n",
       "    }\n",
       "\n",
       "    .dataframe thead th {\n",
       "        text-align: right;\n",
       "    }\n",
       "</style>\n",
       "<table border=\"1\" class=\"dataframe\">\n",
       "  <thead>\n",
       "    <tr style=\"text-align: right;\">\n",
       "      <th>fbs</th>\n",
       "      <th>0</th>\n",
       "      <th>1</th>\n",
       "    </tr>\n",
       "    <tr>\n",
       "      <th>sex</th>\n",
       "      <th></th>\n",
       "      <th></th>\n",
       "    </tr>\n",
       "  </thead>\n",
       "  <tbody>\n",
       "    <tr>\n",
       "      <th>0</th>\n",
       "      <td>270</td>\n",
       "      <td>42</td>\n",
       "    </tr>\n",
       "    <tr>\n",
       "      <th>1</th>\n",
       "      <td>602</td>\n",
       "      <td>111</td>\n",
       "    </tr>\n",
       "  </tbody>\n",
       "</table>\n",
       "</div>"
      ],
      "text/plain": [
       "fbs    0    1\n",
       "sex          \n",
       "0    270   42\n",
       "1    602  111"
      ]
     },
     "execution_count": 36,
     "metadata": {},
     "output_type": "execute_result"
    }
   ],
   "source": [
    "pd.crosstab(df.sex, df.fbs)"
   ]
  },
  {
   "cell_type": "code",
   "execution_count": 37,
   "id": "reasonable-toner",
   "metadata": {
    "execution": {
     "iopub.execute_input": "2021-10-18T08:01:30.908277Z",
     "iopub.status.busy": "2021-10-18T08:01:30.907585Z",
     "iopub.status.idle": "2021-10-18T08:01:31.066062Z",
     "shell.execute_reply": "2021-10-18T08:01:31.066591Z",
     "shell.execute_reply.started": "2021-06-19T09:57:29.009837Z"
    },
    "papermill": {
     "duration": 0.241369,
     "end_time": "2021-10-18T08:01:31.066785",
     "exception": false,
     "start_time": "2021-10-18T08:01:30.825416",
     "status": "completed"
    },
    "tags": []
   },
   "outputs": [
    {
     "data": {
      "image/png": "[encoded data removed]",
      "text/plain": [
       "<Figure size 432x288 with 1 Axes>"
      ]
     },
     "metadata": {
      "needs_background": "light"
     },
     "output_type": "display_data"
    }
   ],
   "source": [
    "fig = pd.crosstab(df.sex, df.fbs).plot(kind = 'bar', color = ['lightblue', 'salmon'])\n",
    "plt.title(\"Fasting blood sugar w.r.t sex\")\n",
    "fig.set_xticklabels(labels=['fbs>120 mg/dl', 'fbs<120 mg/dl'], rotation=0)\n",
    "plt.legend(['Female', 'Male']);"
   ]
  },
  {
   "cell_type": "code",
   "execution_count": 38,
   "id": "adjacent-chambers",
   "metadata": {
    "execution": {
     "iopub.execute_input": "2021-10-18T08:01:31.226823Z",
     "iopub.status.busy": "2021-10-18T08:01:31.226194Z",
     "iopub.status.idle": "2021-10-18T08:01:31.771448Z",
     "shell.execute_reply": "2021-10-18T08:01:31.770810Z",
     "shell.execute_reply.started": "2021-06-19T09:57:29.345452Z"
    },
    "papermill": {
     "duration": 0.626975,
     "end_time": "2021-10-18T08:01:31.771588",
     "exception": false,
     "start_time": "2021-10-18T08:01:31.144613",
     "status": "completed"
    },
    "tags": []
   },
   "outputs": [
    {
     "data": {
      "image/png": "[encoded data removed]",
      "text/plain": [
       "<Figure size 792x648 with 2 Axes>"
      ]
     },
     "metadata": {
      "needs_background": "light"
     },
     "output_type": "display_data"
    }
   ],
   "source": [
    "corr = df.corr()\n",
    "mask = np.triu(np.ones_like(corr, dtype=bool))\n",
    "f, ax = plt.subplots(figsize=(11, 9))\n",
    "cmap = sns.diverging_palette(230, 20, as_cmap=True)\n",
    "sns.heatmap(corr, mask=mask, cmap=cmap, vmax=.3, center=0,\n",
    "            square=True, linewidths=.5, cbar_kws={\"shrink\": .5});"
   ]
  },
  {
   "cell_type": "markdown",
   "id": "industrial-passion",
   "metadata": {
    "papermill": {
     "duration": 0.078676,
     "end_time": "2021-10-18T08:01:31.930998",
     "exception": false,
     "start_time": "2021-10-18T08:01:31.852322",
     "status": "completed"
    },
    "tags": []
   },
   "source": [
    "# Data Preprocessing"
   ]
  },
  {
   "cell_type": "code",
   "execution_count": 39,
   "id": "czech-ceremony",
   "metadata": {
    "execution": {
     "iopub.execute_input": "2021-10-18T08:01:32.096704Z",
     "iopub.status.busy": "2021-10-18T08:01:32.096091Z",
     "iopub.status.idle": "2021-10-18T08:01:32.101665Z",
     "shell.execute_reply": "2021-10-18T08:01:32.101178Z",
     "shell.execute_reply.started": "2021-06-19T09:57:29.772024Z"
    },
    "papermill": {
     "duration": 0.090256,
     "end_time": "2021-10-18T08:01:32.101813",
     "exception": false,
     "start_time": "2021-10-18T08:01:32.011557",
     "status": "completed"
    },
    "tags": []
   },
   "outputs": [
    {
     "data": {
      "text/plain": [
       "age         0\n",
       "sex         0\n",
       "cp          0\n",
       "trestbps    0\n",
       "chol        0\n",
       "fbs         0\n",
       "restecg     0\n",
       "thalach     0\n",
       "exang       0\n",
       "oldpeak     0\n",
       "slope       0\n",
       "ca          0\n",
       "thal        0\n",
       "target      0\n",
       "dtype: int64"
      ]
     },
     "execution_count": 39,
     "metadata": {},
     "output_type": "execute_result"
    }
   ],
   "source": [
    "#checking for null values\n",
    "df.isna().sum()"
   ]
  },
  {
   "cell_type": "markdown",
   "id": "approved-bahrain",
   "metadata": {
    "papermill": {
     "duration": 0.077171,
     "end_time": "2021-10-18T08:01:32.257354",
     "exception": false,
     "start_time": "2021-10-18T08:01:32.180183",
     "status": "completed"
    },
    "tags": []
   },
   "source": [
    "There is no null values."
   ]
  },
  {
   "cell_type": "markdown",
   "id": "sorted-making",
   "metadata": {
    "papermill": {
     "duration": 0.078148,
     "end_time": "2021-10-18T08:01:32.414691",
     "exception": false,
     "start_time": "2021-10-18T08:01:32.336543",
     "status": "completed"
    },
    "tags": []
   },
   "source": [
    "# Modeling"
   ]
  },
  {
   "cell_type": "code",
   "execution_count": 40,
   "id": "suitable-georgia",
   "metadata": {
    "execution": {
     "iopub.execute_input": "2021-10-18T08:01:32.574355Z",
     "iopub.status.busy": "2021-10-18T08:01:32.573703Z",
     "iopub.status.idle": "2021-10-18T08:01:32.576085Z",
     "shell.execute_reply": "2021-10-18T08:01:32.576618Z",
     "shell.execute_reply.started": "2021-06-19T09:57:29.782402Z"
    },
    "papermill": {
     "duration": 0.085138,
     "end_time": "2021-10-18T08:01:32.576796",
     "exception": false,
     "start_time": "2021-10-18T08:01:32.491658",
     "status": "completed"
    },
    "tags": []
   },
   "outputs": [],
   "source": [
    "# creating dependent and independent matrix of features\n",
    "x = df.iloc[:, 0:-1]\n",
    "y = df.iloc[:, -1]"
   ]
  },
  {
   "cell_type": "code",
   "execution_count": 41,
   "id": "controlled-brake",
   "metadata": {
    "execution": {
     "iopub.execute_input": "2021-10-18T08:01:32.736586Z",
     "iopub.status.busy": "2021-10-18T08:01:32.735956Z",
     "iopub.status.idle": "2021-10-18T08:01:32.750746Z",
     "shell.execute_reply": "2021-10-18T08:01:32.750086Z",
     "shell.execute_reply.started": "2021-06-19T09:57:29.794831Z"
    },
    "papermill": {
     "duration": 0.09605,
     "end_time": "2021-10-18T08:01:32.750890",
     "exception": false,
     "start_time": "2021-10-18T08:01:32.654840",
     "status": "completed"
    },
    "tags": []
   },
   "outputs": [
    {
     "data": {
      "text/html": [
       "<div>\n",
       "<style scoped>\n",
       "    .dataframe tbody tr th:only-of-type {\n",
       "        vertical-align: middle;\n",
       "    }\n",
       "\n",
       "    .dataframe tbody tr th {\n",
       "        vertical-align: top;\n",
       "    }\n",
       "\n",
       "    .dataframe thead th {\n",
       "        text-align: right;\n",
       "    }\n",
       "</style>\n",
       "<table border=\"1\" class=\"dataframe\">\n",
       "  <thead>\n",
       "    <tr style=\"text-align: right;\">\n",
       "      <th></th>\n",
       "      <th>age</th>\n",
       "      <th>sex</th>\n",
       "      <th>cp</th>\n",
       "      <th>trestbps</th>\n",
       "      <th>chol</th>\n",
       "      <th>fbs</th>\n",
       "      <th>restecg</th>\n",
       "      <th>thalach</th>\n",
       "      <th>exang</th>\n",
       "      <th>oldpeak</th>\n",
       "      <th>slope</th>\n",
       "      <th>ca</th>\n",
       "      <th>thal</th>\n",
       "    </tr>\n",
       "  </thead>\n",
       "  <tbody>\n",
       "    <tr>\n",
       "      <th>0</th>\n",
       "      <td>52</td>\n",
       "      <td>1</td>\n",
       "      <td>0</td>\n",
       "      <td>125</td>\n",
       "      <td>212</td>\n",
       "      <td>0</td>\n",
       "      <td>1</td>\n",
       "      <td>168</td>\n",
       "      <td>0</td>\n",
       "      <td>1.0</td>\n",
       "      <td>2</td>\n",
       "      <td>2</td>\n",
       "      <td>3</td>\n",
       "    </tr>\n",
       "    <tr>\n",
       "      <th>1</th>\n",
       "      <td>53</td>\n",
       "      <td>1</td>\n",
       "      <td>0</td>\n",
       "      <td>140</td>\n",
       "      <td>203</td>\n",
       "      <td>1</td>\n",
       "      <td>0</td>\n",
       "      <td>155</td>\n",
       "      <td>1</td>\n",
       "      <td>3.1</td>\n",
       "      <td>0</td>\n",
       "      <td>0</td>\n",
       "      <td>3</td>\n",
       "    </tr>\n",
       "    <tr>\n",
       "      <th>2</th>\n",
       "      <td>70</td>\n",
       "      <td>1</td>\n",
       "      <td>0</td>\n",
       "      <td>145</td>\n",
       "      <td>174</td>\n",
       "      <td>0</td>\n",
       "      <td>1</td>\n",
       "      <td>125</td>\n",
       "      <td>1</td>\n",
       "      <td>2.6</td>\n",
       "      <td>0</td>\n",
       "      <td>0</td>\n",
       "      <td>3</td>\n",
       "    </tr>\n",
       "    <tr>\n",
       "      <th>3</th>\n",
       "      <td>61</td>\n",
       "      <td>1</td>\n",
       "      <td>0</td>\n",
       "      <td>148</td>\n",
       "      <td>203</td>\n",
       "      <td>0</td>\n",
       "      <td>1</td>\n",
       "      <td>161</td>\n",
       "      <td>0</td>\n",
       "      <td>0.0</td>\n",
       "      <td>2</td>\n",
       "      <td>1</td>\n",
       "      <td>3</td>\n",
       "    </tr>\n",
       "    <tr>\n",
       "      <th>4</th>\n",
       "      <td>62</td>\n",
       "      <td>0</td>\n",
       "      <td>0</td>\n",
       "      <td>138</td>\n",
       "      <td>294</td>\n",
       "      <td>1</td>\n",
       "      <td>1</td>\n",
       "      <td>106</td>\n",
       "      <td>0</td>\n",
       "      <td>1.9</td>\n",
       "      <td>1</td>\n",
       "      <td>3</td>\n",
       "      <td>2</td>\n",
       "    </tr>\n",
       "  </tbody>\n",
       "</table>\n",
       "</div>"
      ],
      "text/plain": [
       "   age  sex  cp  trestbps  chol  fbs  restecg  thalach  exang  oldpeak  slope  \\\n",
       "0   52    1   0       125   212    0        1      168      0      1.0      2   \n",
       "1   53    1   0       140   203    1        0      155      1      3.1      0   \n",
       "2   70    1   0       145   174    0        1      125      1      2.6      0   \n",
       "3   61    1   0       148   203    0        1      161      0      0.0      2   \n",
       "4   62    0   0       138   294    1        1      106      0      1.9      1   \n",
       "\n",
       "   ca  thal  \n",
       "0   2     3  \n",
       "1   0     3  \n",
       "2   0     3  \n",
       "3   1     3  \n",
       "4   3     2  "
      ]
     },
     "execution_count": 41,
     "metadata": {},
     "output_type": "execute_result"
    }
   ],
   "source": [
    "x.head()"
   ]
  },
  {
   "cell_type": "code",
   "execution_count": 42,
   "id": "invalid-queen",
   "metadata": {
    "execution": {
     "iopub.execute_input": "2021-10-18T08:01:32.921686Z",
     "iopub.status.busy": "2021-10-18T08:01:32.921058Z",
     "iopub.status.idle": "2021-10-18T08:01:32.925140Z",
     "shell.execute_reply": "2021-10-18T08:01:32.924566Z",
     "shell.execute_reply.started": "2021-06-19T09:57:29.821433Z"
    },
    "papermill": {
     "duration": 0.090441,
     "end_time": "2021-10-18T08:01:32.925278",
     "exception": false,
     "start_time": "2021-10-18T08:01:32.834837",
     "status": "completed"
    },
    "tags": []
   },
   "outputs": [
    {
     "data": {
      "text/plain": [
       "0    0\n",
       "1    0\n",
       "2    0\n",
       "3    0\n",
       "4    0\n",
       "Name: target, dtype: int64"
      ]
     },
     "execution_count": 42,
     "metadata": {},
     "output_type": "execute_result"
    }
   ],
   "source": [
    "y.head()"
   ]
  },
  {
   "cell_type": "code",
   "execution_count": 43,
   "id": "found-secondary",
   "metadata": {
    "execution": {
     "iopub.execute_input": "2021-10-18T08:01:33.088493Z",
     "iopub.status.busy": "2021-10-18T08:01:33.087615Z",
     "iopub.status.idle": "2021-10-18T08:01:33.282207Z",
     "shell.execute_reply": "2021-10-18T08:01:33.281555Z",
     "shell.execute_reply.started": "2021-06-19T09:57:29.830732Z"
    },
    "papermill": {
     "duration": 0.277797,
     "end_time": "2021-10-18T08:01:33.282362",
     "exception": false,
     "start_time": "2021-10-18T08:01:33.004565",
     "status": "completed"
    },
    "tags": []
   },
   "outputs": [],
   "source": [
    "# spltting the dataset into train and test set\n",
    "from sklearn.model_selection import train_test_split\n",
    "x_train, x_test, y_train, y_test = train_test_split(x, y, test_size = 0.2, random_state = 31)"
   ]
  },
  {
   "cell_type": "code",
   "execution_count": 44,
   "id": "transparent-clothing",
   "metadata": {
    "execution": {
     "iopub.execute_input": "2021-10-18T08:01:33.447105Z",
     "iopub.status.busy": "2021-10-18T08:01:33.446229Z",
     "iopub.status.idle": "2021-10-18T08:01:33.450859Z",
     "shell.execute_reply": "2021-10-18T08:01:33.450286Z",
     "shell.execute_reply.started": "2021-06-19T09:57:30.066184Z"
    },
    "papermill": {
     "duration": 0.08911,
     "end_time": "2021-10-18T08:01:33.451011",
     "exception": false,
     "start_time": "2021-10-18T08:01:33.361901",
     "status": "completed"
    },
    "tags": []
   },
   "outputs": [
    {
     "data": {
      "text/plain": [
       "(820, 205, 820, 205)"
      ]
     },
     "execution_count": 44,
     "metadata": {},
     "output_type": "execute_result"
    }
   ],
   "source": [
    "len(x_train), len(x_test), len(y_train), len(y_test)"
   ]
  },
  {
   "cell_type": "code",
   "execution_count": 45,
   "id": "cooked-crash",
   "metadata": {
    "execution": {
     "iopub.execute_input": "2021-10-18T08:01:33.626224Z",
     "iopub.status.busy": "2021-10-18T08:01:33.625566Z",
     "iopub.status.idle": "2021-10-18T08:01:33.630236Z",
     "shell.execute_reply": "2021-10-18T08:01:33.629623Z",
     "shell.execute_reply.started": "2021-06-19T09:57:30.076657Z"
    },
    "papermill": {
     "duration": 0.098832,
     "end_time": "2021-10-18T08:01:33.630386",
     "exception": false,
     "start_time": "2021-10-18T08:01:33.531554",
     "status": "completed"
    },
    "tags": []
   },
   "outputs": [
    {
     "data": {
      "text/html": [
       "<div>\n",
       "<style scoped>\n",
       "    .dataframe tbody tr th:only-of-type {\n",
       "        vertical-align: middle;\n",
       "    }\n",
       "\n",
       "    .dataframe tbody tr th {\n",
       "        vertical-align: top;\n",
       "    }\n",
       "\n",
       "    .dataframe thead th {\n",
       "        text-align: right;\n",
       "    }\n",
       "</style>\n",
       "<table border=\"1\" class=\"dataframe\">\n",
       "  <thead>\n",
       "    <tr style=\"text-align: right;\">\n",
       "      <th></th>\n",
       "      <th>age</th>\n",
       "      <th>sex</th>\n",
       "      <th>cp</th>\n",
       "      <th>trestbps</th>\n",
       "      <th>chol</th>\n",
       "      <th>fbs</th>\n",
       "      <th>restecg</th>\n",
       "      <th>thalach</th>\n",
       "      <th>exang</th>\n",
       "      <th>oldpeak</th>\n",
       "      <th>slope</th>\n",
       "      <th>ca</th>\n",
       "      <th>thal</th>\n",
       "    </tr>\n",
       "  </thead>\n",
       "  <tbody>\n",
       "    <tr>\n",
       "      <th>999</th>\n",
       "      <td>67</td>\n",
       "      <td>1</td>\n",
       "      <td>0</td>\n",
       "      <td>125</td>\n",
       "      <td>254</td>\n",
       "      <td>1</td>\n",
       "      <td>1</td>\n",
       "      <td>163</td>\n",
       "      <td>0</td>\n",
       "      <td>0.2</td>\n",
       "      <td>1</td>\n",
       "      <td>2</td>\n",
       "      <td>3</td>\n",
       "    </tr>\n",
       "    <tr>\n",
       "      <th>208</th>\n",
       "      <td>38</td>\n",
       "      <td>1</td>\n",
       "      <td>2</td>\n",
       "      <td>138</td>\n",
       "      <td>175</td>\n",
       "      <td>0</td>\n",
       "      <td>1</td>\n",
       "      <td>173</td>\n",
       "      <td>0</td>\n",
       "      <td>0.0</td>\n",
       "      <td>2</td>\n",
       "      <td>4</td>\n",
       "      <td>2</td>\n",
       "    </tr>\n",
       "    <tr>\n",
       "      <th>605</th>\n",
       "      <td>71</td>\n",
       "      <td>0</td>\n",
       "      <td>2</td>\n",
       "      <td>110</td>\n",
       "      <td>265</td>\n",
       "      <td>1</td>\n",
       "      <td>0</td>\n",
       "      <td>130</td>\n",
       "      <td>0</td>\n",
       "      <td>0.0</td>\n",
       "      <td>2</td>\n",
       "      <td>1</td>\n",
       "      <td>2</td>\n",
       "    </tr>\n",
       "    <tr>\n",
       "      <th>172</th>\n",
       "      <td>56</td>\n",
       "      <td>1</td>\n",
       "      <td>1</td>\n",
       "      <td>120</td>\n",
       "      <td>240</td>\n",
       "      <td>0</td>\n",
       "      <td>1</td>\n",
       "      <td>169</td>\n",
       "      <td>0</td>\n",
       "      <td>0.0</td>\n",
       "      <td>0</td>\n",
       "      <td>0</td>\n",
       "      <td>2</td>\n",
       "    </tr>\n",
       "    <tr>\n",
       "      <th>385</th>\n",
       "      <td>51</td>\n",
       "      <td>1</td>\n",
       "      <td>2</td>\n",
       "      <td>110</td>\n",
       "      <td>175</td>\n",
       "      <td>0</td>\n",
       "      <td>1</td>\n",
       "      <td>123</td>\n",
       "      <td>0</td>\n",
       "      <td>0.6</td>\n",
       "      <td>2</td>\n",
       "      <td>0</td>\n",
       "      <td>2</td>\n",
       "    </tr>\n",
       "  </tbody>\n",
       "</table>\n",
       "</div>"
      ],
      "text/plain": [
       "     age  sex  cp  trestbps  chol  fbs  restecg  thalach  exang  oldpeak  \\\n",
       "999   67    1   0       125   254    1        1      163      0      0.2   \n",
       "208   38    1   2       138   175    0        1      173      0      0.0   \n",
       "605   71    0   2       110   265    1        0      130      0      0.0   \n",
       "172   56    1   1       120   240    0        1      169      0      0.0   \n",
       "385   51    1   2       110   175    0        1      123      0      0.6   \n",
       "\n",
       "     slope  ca  thal  \n",
       "999      1   2     3  \n",
       "208      2   4     2  \n",
       "605      2   1     2  \n",
       "172      0   0     2  \n",
       "385      2   0     2  "
      ]
     },
     "execution_count": 45,
     "metadata": {},
     "output_type": "execute_result"
    }
   ],
   "source": [
    "x_train.head()"
   ]
  },
  {
   "cell_type": "code",
   "execution_count": 46,
   "id": "worse-softball",
   "metadata": {
    "execution": {
     "iopub.execute_input": "2021-10-18T08:01:33.796536Z",
     "iopub.status.busy": "2021-10-18T08:01:33.795655Z",
     "iopub.status.idle": "2021-10-18T08:01:33.799516Z",
     "shell.execute_reply": "2021-10-18T08:01:33.799926Z",
     "shell.execute_reply.started": "2021-06-19T09:57:30.098628Z"
    },
    "papermill": {
     "duration": 0.088607,
     "end_time": "2021-10-18T08:01:33.800119",
     "exception": false,
     "start_time": "2021-10-18T08:01:33.711512",
     "status": "completed"
    },
    "tags": []
   },
   "outputs": [
    {
     "data": {
      "text/plain": [
       "999    0\n",
       "208    1\n",
       "605    1\n",
       "172    1\n",
       "385    1\n",
       "Name: target, dtype: int64"
      ]
     },
     "execution_count": 46,
     "metadata": {},
     "output_type": "execute_result"
    }
   ],
   "source": [
    "y_train.head()"
   ]
  },
  {
   "cell_type": "markdown",
   "id": "looking-douglas",
   "metadata": {
    "papermill": {
     "duration": 0.084,
     "end_time": "2021-10-18T08:01:33.967793",
     "exception": false,
     "start_time": "2021-10-18T08:01:33.883793",
     "status": "completed"
    },
    "tags": []
   },
   "source": [
    "### Logistic Regression"
   ]
  },
  {
   "cell_type": "code",
   "execution_count": 47,
   "id": "funded-customs",
   "metadata": {
    "execution": {
     "iopub.execute_input": "2021-10-18T08:01:34.138823Z",
     "iopub.status.busy": "2021-10-18T08:01:34.138124Z",
     "iopub.status.idle": "2021-10-18T08:01:34.558627Z",
     "shell.execute_reply": "2021-10-18T08:01:34.559588Z",
     "shell.execute_reply.started": "2021-06-19T09:57:30.112727Z"
    },
    "papermill": {
     "duration": 0.509029,
     "end_time": "2021-10-18T08:01:34.559932",
     "exception": false,
     "start_time": "2021-10-18T08:01:34.050903",
     "status": "completed"
    },
    "tags": []
   },
   "outputs": [
    {
     "data": {
      "text/plain": [
       "0.8585365853658536"
      ]
     },
     "execution_count": 47,
     "metadata": {},
     "output_type": "execute_result"
    }
   ],
   "source": [
    "from sklearn.linear_model import LogisticRegression\n",
    "log_clf = LogisticRegression(max_iter = 1000, random_state = 4)\n",
    "log_clf.fit(x_train, y_train)\n",
    "log_score = log_clf.score(x_test, y_test)\n",
    "log_score"
   ]
  },
  {
   "cell_type": "markdown",
   "id": "loved-implement",
   "metadata": {
    "papermill": {
     "duration": 0.079627,
     "end_time": "2021-10-18T08:01:34.774754",
     "exception": false,
     "start_time": "2021-10-18T08:01:34.695127",
     "status": "completed"
    },
    "tags": []
   },
   "source": [
    "### Tuning Logistic Regression"
   ]
  },
  {
   "cell_type": "code",
   "execution_count": 48,
   "id": "fancy-adobe",
   "metadata": {
    "execution": {
     "iopub.execute_input": "2021-10-18T08:01:34.942423Z",
     "iopub.status.busy": "2021-10-18T08:01:34.941462Z",
     "iopub.status.idle": "2021-10-18T08:02:51.207859Z",
     "shell.execute_reply": "2021-10-18T08:02:51.208366Z",
     "shell.execute_reply.started": "2021-06-19T09:57:30.594709Z"
    },
    "papermill": {
     "duration": 76.35393,
     "end_time": "2021-10-18T08:02:51.208550",
     "exception": false,
     "start_time": "2021-10-18T08:01:34.854620",
     "status": "completed"
    },
    "tags": []
   },
   "outputs": [
    {
     "name": "stdout",
     "output_type": "stream",
     "text": [
      "Fitting 5 folds for each of 1000 candidates, totalling 5000 fits\n"
     ]
    },
    {
     "data": {
      "text/plain": [
       "0.8682926829268293"
      ]
     },
     "execution_count": 48,
     "metadata": {},
     "output_type": "execute_result"
    }
   ],
   "source": [
    "from sklearn.model_selection import GridSearchCV\n",
    "log_grid = {'C': np.logspace(-5, 5),\n",
    "            'solver': ['liblinear'],\n",
    "            'max_iter': np.arange(1000, 2000, 100),\n",
    "            'penalty':['l1', 'l2']\n",
    "           }\n",
    "\n",
    "log_gscv = GridSearchCV(LogisticRegression(random_state = 7),\n",
    "                          param_grid=log_grid,\n",
    "                          cv=5,\n",
    "                          verbose=True)\n",
    "\n",
    "log_gscv.fit(x_train, y_train)\n",
    "log_tuned_score = log_gscv.score(x_test, y_test)\n",
    "log_tuned_score"
   ]
  },
  {
   "cell_type": "code",
   "execution_count": 49,
   "id": "spiritual-estonia",
   "metadata": {
    "execution": {
     "iopub.execute_input": "2021-10-18T08:02:51.377015Z",
     "iopub.status.busy": "2021-10-18T08:02:51.376070Z",
     "iopub.status.idle": "2021-10-18T08:02:51.380338Z",
     "shell.execute_reply": "2021-10-18T08:02:51.379834Z",
     "shell.execute_reply.started": "2021-06-19T09:58:50.01013Z"
    },
    "papermill": {
     "duration": 0.089793,
     "end_time": "2021-10-18T08:02:51.380475",
     "exception": false,
     "start_time": "2021-10-18T08:02:51.290682",
     "status": "completed"
    },
    "tags": []
   },
   "outputs": [
    {
     "data": {
      "text/plain": [
       "{'C': 0.04714866363457394,\n",
       " 'max_iter': 1000,\n",
       " 'penalty': 'l2',\n",
       " 'solver': 'liblinear'}"
      ]
     },
     "execution_count": 49,
     "metadata": {},
     "output_type": "execute_result"
    }
   ],
   "source": [
    "log_gscv.best_params_"
   ]
  },
  {
   "cell_type": "markdown",
   "id": "attempted-generator",
   "metadata": {
    "papermill": {
     "duration": 0.08393,
     "end_time": "2021-10-18T08:02:51.546357",
     "exception": false,
     "start_time": "2021-10-18T08:02:51.462427",
     "status": "completed"
    },
    "tags": []
   },
   "source": [
    "### KNeighbors Classifier"
   ]
  },
  {
   "cell_type": "code",
   "execution_count": 50,
   "id": "current-region",
   "metadata": {
    "execution": {
     "iopub.execute_input": "2021-10-18T08:02:51.716637Z",
     "iopub.status.busy": "2021-10-18T08:02:51.715890Z",
     "iopub.status.idle": "2021-10-18T08:02:51.804233Z",
     "shell.execute_reply": "2021-10-18T08:02:51.803723Z",
     "shell.execute_reply.started": "2021-06-19T09:58:50.019217Z"
    },
    "papermill": {
     "duration": 0.173402,
     "end_time": "2021-10-18T08:02:51.804384",
     "exception": false,
     "start_time": "2021-10-18T08:02:51.630982",
     "status": "completed"
    },
    "tags": []
   },
   "outputs": [
    {
     "data": {
      "text/plain": [
       "0.7560975609756098"
      ]
     },
     "execution_count": 50,
     "metadata": {},
     "output_type": "execute_result"
    }
   ],
   "source": [
    "from sklearn.neighbors import KNeighborsClassifier\n",
    "knn_clf = KNeighborsClassifier()\n",
    "knn_clf.fit(x_train, y_train)\n",
    "knn_score = knn_clf.score(x_test, y_test)\n",
    "knn_score"
   ]
  },
  {
   "cell_type": "markdown",
   "id": "opposite-bernard",
   "metadata": {
    "papermill": {
     "duration": 0.084589,
     "end_time": "2021-10-18T08:02:51.971684",
     "exception": false,
     "start_time": "2021-10-18T08:02:51.887095",
     "status": "completed"
    },
    "tags": []
   },
   "source": [
    "### Tuning KNeighbors Classifier"
   ]
  },
  {
   "cell_type": "code",
   "execution_count": 51,
   "id": "champion-quantity",
   "metadata": {
    "execution": {
     "iopub.execute_input": "2021-10-18T08:02:52.149666Z",
     "iopub.status.busy": "2021-10-18T08:02:52.148668Z",
     "iopub.status.idle": "2021-10-18T08:06:48.819487Z",
     "shell.execute_reply": "2021-10-18T08:06:48.819976Z",
     "shell.execute_reply.started": "2021-06-19T09:58:50.126239Z"
    },
    "papermill": {
     "duration": 236.765001,
     "end_time": "2021-10-18T08:06:48.820225",
     "exception": false,
     "start_time": "2021-10-18T08:02:52.055224",
     "status": "completed"
    },
    "tags": []
   },
   "outputs": [
    {
     "name": "stdout",
     "output_type": "stream",
     "text": [
      "Fitting 5 folds for each of 1755 candidates, totalling 8775 fits\n"
     ]
    },
    {
     "data": {
      "text/plain": [
       "0.9414634146341463"
      ]
     },
     "execution_count": 51,
     "metadata": {},
     "output_type": "execute_result"
    }
   ],
   "source": [
    "knn_grid = {'n_neighbors': np.arange(2, 15),\n",
    "            'leaf_size': [10, 15, 20, 25, 30, 35, 40, 45, 50],\n",
    "            'p':[1,2,3,4,5], \n",
    "            'algorithm': ['auto', 'ball_tree', 'kd_tree']}\n",
    "\n",
    "knn_gscv = GridSearchCV(KNeighborsClassifier(),\n",
    "                        param_grid=knn_grid,\n",
    "                        cv=5,\n",
    "                        verbose=True)\n",
    "\n",
    "knn_gscv.fit(x_train, y_train)\n",
    "knn_tuned_score = knn_gscv.score(x_test, y_test)\n",
    "knn_tuned_score"
   ]
  },
  {
   "cell_type": "code",
   "execution_count": 52,
   "id": "improving-crazy",
   "metadata": {
    "execution": {
     "iopub.execute_input": "2021-10-18T08:06:49.016432Z",
     "iopub.status.busy": "2021-10-18T08:06:49.015381Z",
     "iopub.status.idle": "2021-10-18T08:06:49.019309Z",
     "shell.execute_reply": "2021-10-18T08:06:49.019734Z",
     "shell.execute_reply.started": "2021-06-19T10:02:59.045435Z"
    },
    "papermill": {
     "duration": 0.097934,
     "end_time": "2021-10-18T08:06:49.019905",
     "exception": false,
     "start_time": "2021-10-18T08:06:48.921971",
     "status": "completed"
    },
    "tags": []
   },
   "outputs": [
    {
     "data": {
      "text/plain": [
       "{'algorithm': 'auto', 'leaf_size': 45, 'n_neighbors': 2, 'p': 1}"
      ]
     },
     "execution_count": 52,
     "metadata": {},
     "output_type": "execute_result"
    }
   ],
   "source": [
    "knn_gscv.best_params_"
   ]
  },
  {
   "cell_type": "markdown",
   "id": "liable-liverpool",
   "metadata": {
    "papermill": {
     "duration": 0.084666,
     "end_time": "2021-10-18T08:06:49.190546",
     "exception": false,
     "start_time": "2021-10-18T08:06:49.105880",
     "status": "completed"
    },
    "tags": []
   },
   "source": [
    "### Support Vector Classifier"
   ]
  },
  {
   "cell_type": "code",
   "execution_count": 53,
   "id": "accepting-breed",
   "metadata": {
    "execution": {
     "iopub.execute_input": "2021-10-18T08:06:49.368384Z",
     "iopub.status.busy": "2021-10-18T08:06:49.367359Z",
     "iopub.status.idle": "2021-10-18T08:06:49.419037Z",
     "shell.execute_reply": "2021-10-18T08:06:49.419531Z",
     "shell.execute_reply.started": "2021-06-19T10:02:59.053156Z"
    },
    "papermill": {
     "duration": 0.143283,
     "end_time": "2021-10-18T08:06:49.419697",
     "exception": false,
     "start_time": "2021-10-18T08:06:49.276414",
     "status": "completed"
    },
    "tags": []
   },
   "outputs": [
    {
     "data": {
      "text/plain": [
       "0.7560975609756098"
      ]
     },
     "execution_count": 53,
     "metadata": {},
     "output_type": "execute_result"
    }
   ],
   "source": [
    "from sklearn import svm\n",
    "svc_clf = svm.SVC(random_state = 7)\n",
    "svc_clf.fit(x_train, y_train)\n",
    "svc_score = svc_clf.score(x_test, y_test)\n",
    "svc_score"
   ]
  },
  {
   "cell_type": "markdown",
   "id": "exclusive-modification",
   "metadata": {
    "papermill": {
     "duration": 0.085347,
     "end_time": "2021-10-18T08:06:49.591091",
     "exception": false,
     "start_time": "2021-10-18T08:06:49.505744",
     "status": "completed"
    },
    "tags": []
   },
   "source": [
    "### Tuning Support Vector Classifier"
   ]
  },
  {
   "cell_type": "code",
   "execution_count": 54,
   "id": "hearing-rainbow",
   "metadata": {
    "execution": {
     "iopub.execute_input": "2021-10-18T08:06:49.768811Z",
     "iopub.status.busy": "2021-10-18T08:06:49.767826Z",
     "iopub.status.idle": "2021-10-18T08:07:43.151850Z",
     "shell.execute_reply": "2021-10-18T08:07:43.152341Z",
     "shell.execute_reply.started": "2021-06-19T10:02:59.120535Z"
    },
    "papermill": {
     "duration": 53.476441,
     "end_time": "2021-10-18T08:07:43.152514",
     "exception": false,
     "start_time": "2021-10-18T08:06:49.676073",
     "status": "completed"
    },
    "tags": []
   },
   "outputs": [
    {
     "name": "stdout",
     "output_type": "stream",
     "text": [
      "Fitting 5 folds for each of 60 candidates, totalling 300 fits\n"
     ]
    },
    {
     "data": {
      "text/plain": [
       "0.8682926829268293"
      ]
     },
     "execution_count": 54,
     "metadata": {},
     "output_type": "execute_result"
    }
   ],
   "source": [
    "svc_grid = {'C': np.logspace(-5, 5, 20),\n",
    "            'kernel': ['rbf'],\n",
    "            'degree': [2,3,4]\n",
    "           }\n",
    "\n",
    "svc_gscv = GridSearchCV(svm.SVC(random_state = 31),\n",
    "                        param_grid=svc_grid,\n",
    "                        cv=5,\n",
    "                        verbose=True)\n",
    "\n",
    "svc_gscv.fit(x_train, y_train)\n",
    "svc_tuned_score = log_gscv.score(x_test, y_test)\n",
    "svc_tuned_score"
   ]
  },
  {
   "cell_type": "code",
   "execution_count": 55,
   "id": "herbal-tissue",
   "metadata": {
    "execution": {
     "iopub.execute_input": "2021-10-18T08:07:43.323269Z",
     "iopub.status.busy": "2021-10-18T08:07:43.322598Z",
     "iopub.status.idle": "2021-10-18T08:07:43.325288Z",
     "shell.execute_reply": "2021-10-18T08:07:43.325685Z",
     "shell.execute_reply.started": "2021-06-19T10:03:51.020639Z"
    },
    "papermill": {
     "duration": 0.089464,
     "end_time": "2021-10-18T08:07:43.325851",
     "exception": false,
     "start_time": "2021-10-18T08:07:43.236387",
     "status": "completed"
    },
    "tags": []
   },
   "outputs": [
    {
     "data": {
      "text/plain": [
       "{'C': 100000.0, 'degree': 2, 'kernel': 'rbf'}"
      ]
     },
     "execution_count": 55,
     "metadata": {},
     "output_type": "execute_result"
    }
   ],
   "source": [
    "svc_gscv.best_params_"
   ]
  },
  {
   "cell_type": "markdown",
   "id": "illegal-equipment",
   "metadata": {
    "papermill": {
     "duration": 0.082547,
     "end_time": "2021-10-18T08:07:43.490575",
     "exception": false,
     "start_time": "2021-10-18T08:07:43.408028",
     "status": "completed"
    },
    "tags": []
   },
   "source": [
    "### Random Forest"
   ]
  },
  {
   "cell_type": "code",
   "execution_count": 56,
   "id": "approved-microphone",
   "metadata": {
    "execution": {
     "iopub.execute_input": "2021-10-18T08:07:43.663829Z",
     "iopub.status.busy": "2021-10-18T08:07:43.662864Z",
     "iopub.status.idle": "2021-10-18T08:07:45.731828Z",
     "shell.execute_reply": "2021-10-18T08:07:45.730971Z",
     "shell.execute_reply.started": "2021-06-19T10:03:51.028196Z"
    },
    "papermill": {
     "duration": 2.157302,
     "end_time": "2021-10-18T08:07:45.731972",
     "exception": false,
     "start_time": "2021-10-18T08:07:43.574670",
     "status": "completed"
    },
    "tags": []
   },
   "outputs": [
    {
     "data": {
      "text/plain": [
       "1.0"
      ]
     },
     "execution_count": 56,
     "metadata": {},
     "output_type": "execute_result"
    }
   ],
   "source": [
    "from sklearn.ensemble import RandomForestClassifier\n",
    "rand_clf = RandomForestClassifier(n_estimators=1000, random_state = 35)\n",
    "rand_clf.fit(x_train, y_train)\n",
    "ranf_score = rand_clf.score(x_test, y_test)\n",
    "ranf_score"
   ]
  },
  {
   "cell_type": "markdown",
   "id": "buried-header",
   "metadata": {
    "papermill": {
     "duration": 0.087031,
     "end_time": "2021-10-18T08:07:45.903434",
     "exception": false,
     "start_time": "2021-10-18T08:07:45.816403",
     "status": "completed"
    },
    "tags": []
   },
   "source": [
    "**oh boy!!**\n",
    "\n",
    "100% acuuracy!! It is surely overfitting. "
   ]
  },
  {
   "cell_type": "markdown",
   "id": "dense-reception",
   "metadata": {
    "papermill": {
     "duration": 0.084573,
     "end_time": "2021-10-18T08:07:46.076674",
     "exception": false,
     "start_time": "2021-10-18T08:07:45.992101",
     "status": "completed"
    },
    "tags": []
   },
   "source": [
    "### GradientBoostingClassifier"
   ]
  },
  {
   "cell_type": "code",
   "execution_count": 57,
   "id": "durable-anime",
   "metadata": {
    "execution": {
     "iopub.execute_input": "2021-10-18T08:07:46.257224Z",
     "iopub.status.busy": "2021-10-18T08:07:46.256501Z",
     "iopub.status.idle": "2021-10-18T08:07:46.409242Z",
     "shell.execute_reply": "2021-10-18T08:07:46.409730Z",
     "shell.execute_reply.started": "2021-06-19T10:03:53.320573Z"
    },
    "papermill": {
     "duration": 0.245159,
     "end_time": "2021-10-18T08:07:46.409911",
     "exception": false,
     "start_time": "2021-10-18T08:07:46.164752",
     "status": "completed"
    },
    "tags": []
   },
   "outputs": [
    {
     "data": {
      "text/plain": [
       "0.9463414634146341"
      ]
     },
     "execution_count": 57,
     "metadata": {},
     "output_type": "execute_result"
    }
   ],
   "source": [
    "from sklearn.ensemble import GradientBoostingClassifier\n",
    "gbc = GradientBoostingClassifier()\n",
    "gbc.fit(x_train, y_train)\n",
    "gbc_score = gbc.score(x_test, y_test)\n",
    "gbc_score"
   ]
  },
  {
   "cell_type": "markdown",
   "id": "heavy-cable",
   "metadata": {
    "papermill": {
     "duration": 0.085041,
     "end_time": "2021-10-18T08:07:46.581200",
     "exception": false,
     "start_time": "2021-10-18T08:07:46.496159",
     "status": "completed"
    },
    "tags": []
   },
   "source": [
    "### Tuning GradientBoostingClassifier"
   ]
  },
  {
   "cell_type": "code",
   "execution_count": 58,
   "id": "front-theology",
   "metadata": {
    "execution": {
     "iopub.execute_input": "2021-10-18T08:07:46.756164Z",
     "iopub.status.busy": "2021-10-18T08:07:46.755215Z",
     "iopub.status.idle": "2021-10-18T08:43:34.244569Z",
     "shell.execute_reply": "2021-10-18T08:43:34.245130Z",
     "shell.execute_reply.started": "2021-06-19T11:13:53.475867Z"
    },
    "papermill": {
     "duration": 2147.579845,
     "end_time": "2021-10-18T08:43:34.245361",
     "exception": false,
     "start_time": "2021-10-18T08:07:46.665516",
     "status": "completed"
    },
    "tags": []
   },
   "outputs": [
    {
     "name": "stdout",
     "output_type": "stream",
     "text": [
      "Fitting 5 folds for each of 960 candidates, totalling 4800 fits\n"
     ]
    },
    {
     "data": {
      "text/plain": [
       "0.9853658536585366"
      ]
     },
     "execution_count": 58,
     "metadata": {},
     "output_type": "execute_result"
    }
   ],
   "source": [
    "gbc_grid = {'loss': ['deviance', 'exponential'],\n",
    "            'learning_rate': [0.1,0.01],\n",
    "            'n_estimators': [100, 200, 500, 1000],\n",
    "            'min_samples_split': [2, 4, 6, 8, 10],\n",
    "            'min_samples_leaf': [1, 2, 3, 5],\n",
    "            'max_depth': [1, 2, 3]}\n",
    "\n",
    "\n",
    "gbc_gscv = GridSearchCV(GradientBoostingClassifier(),\n",
    "                      param_grid = gbc_grid,\n",
    "                           cv=5,\n",
    "                           verbose=True)\n",
    "gbc_gscv.fit(x_train, y_train)\n",
    "gbc_tuned_score = gbc_gscv.score(x_test, y_test)\n",
    "gbc_tuned_score"
   ]
  },
  {
   "cell_type": "code",
   "execution_count": 59,
   "id": "ranging-renewal",
   "metadata": {
    "execution": {
     "iopub.execute_input": "2021-10-18T08:43:34.425863Z",
     "iopub.status.busy": "2021-10-18T08:43:34.425143Z",
     "iopub.status.idle": "2021-10-18T08:43:34.428703Z",
     "shell.execute_reply": "2021-10-18T08:43:34.428264Z",
     "shell.execute_reply.started": "2021-06-19T11:52:12.799481Z"
    },
    "papermill": {
     "duration": 0.093633,
     "end_time": "2021-10-18T08:43:34.428850",
     "exception": false,
     "start_time": "2021-10-18T08:43:34.335217",
     "status": "completed"
    },
    "tags": []
   },
   "outputs": [
    {
     "data": {
      "text/plain": [
       "{'learning_rate': 0.1,\n",
       " 'loss': 'deviance',\n",
       " 'max_depth': 2,\n",
       " 'min_samples_leaf': 3,\n",
       " 'min_samples_split': 2,\n",
       " 'n_estimators': 1000}"
      ]
     },
     "execution_count": 59,
     "metadata": {},
     "output_type": "execute_result"
    }
   ],
   "source": [
    "gbc_gscv.best_params_"
   ]
  },
  {
   "cell_type": "markdown",
   "id": "blessed-pendant",
   "metadata": {
    "papermill": {
     "duration": 0.083224,
     "end_time": "2021-10-18T08:43:34.599010",
     "exception": false,
     "start_time": "2021-10-18T08:43:34.515786",
     "status": "completed"
    },
    "tags": []
   },
   "source": [
    "### Catboost"
   ]
  },
  {
   "cell_type": "code",
   "execution_count": 60,
   "id": "departmental-control",
   "metadata": {
    "execution": {
     "iopub.execute_input": "2021-10-18T08:43:34.771896Z",
     "iopub.status.busy": "2021-10-18T08:43:34.770929Z",
     "iopub.status.idle": "2021-10-18T08:43:36.165813Z",
     "shell.execute_reply": "2021-10-18T08:43:36.164794Z",
     "shell.execute_reply.started": "2021-06-19T11:52:15.20904Z"
    },
    "papermill": {
     "duration": 1.483134,
     "end_time": "2021-10-18T08:43:36.165974",
     "exception": false,
     "start_time": "2021-10-18T08:43:34.682840",
     "status": "completed"
    },
    "tags": []
   },
   "outputs": [
    {
     "data": {
      "text/plain": [
       "0.9853658536585366"
      ]
     },
     "execution_count": 60,
     "metadata": {},
     "output_type": "execute_result"
    }
   ],
   "source": [
    "from catboost import CatBoostClassifier\n",
    "cbc = CatBoostClassifier(random_seed = 31)\n",
    "cbc.fit(x_train, y_train, verbose=False);\n",
    "cbc_score = cbc.score(x_test, y_test);\n",
    "cbc_score"
   ]
  },
  {
   "cell_type": "markdown",
   "id": "thorough-administrator",
   "metadata": {
    "papermill": {
     "duration": 0.084359,
     "end_time": "2021-10-18T08:43:36.338885",
     "exception": false,
     "start_time": "2021-10-18T08:43:36.254526",
     "status": "completed"
    },
    "tags": []
   },
   "source": [
    "### Tuning Catboost"
   ]
  },
  {
   "cell_type": "code",
   "execution_count": 61,
   "id": "unavailable-meeting",
   "metadata": {
    "execution": {
     "iopub.execute_input": "2021-10-18T08:43:36.518715Z",
     "iopub.status.busy": "2021-10-18T08:43:36.517676Z",
     "iopub.status.idle": "2021-10-18T08:43:57.826185Z",
     "shell.execute_reply": "2021-10-18T08:43:57.826634Z",
     "shell.execute_reply.started": "2021-06-19T11:55:20.279999Z"
    },
    "papermill": {
     "duration": 21.403027,
     "end_time": "2021-10-18T08:43:57.826857",
     "exception": false,
     "start_time": "2021-10-18T08:43:36.423830",
     "status": "completed"
    },
    "tags": []
   },
   "outputs": [
    {
     "name": "stdout",
     "output_type": "stream",
     "text": [
      "Fitting 5 folds for each of 10 candidates, totalling 50 fits\n"
     ]
    },
    {
     "data": {
      "text/plain": [
       "0.9853658536585366"
      ]
     },
     "execution_count": 61,
     "metadata": {},
     "output_type": "execute_result"
    }
   ],
   "source": [
    "cbc_grid = {'iterations':[10, 100, 200, 500, 1000],\n",
    "            'learning_rate': [0.1, 0.01]}\n",
    "\n",
    "\n",
    "cbc_grcv = GridSearchCV(CatBoostClassifier(random_state = 31),\n",
    "                      param_grid = cbc_grid,\n",
    "                           cv=5,\n",
    "                           verbose=True)\n",
    "\n",
    "cbc_grcv.fit(x_train, y_train, verbose=False)\n",
    "cbc_tuned_score = cbc_grcv.score(x_test, y_test)\n",
    "cbc_tuned_score"
   ]
  },
  {
   "cell_type": "code",
   "execution_count": 62,
   "id": "assisted-ecuador",
   "metadata": {
    "execution": {
     "iopub.execute_input": "2021-10-18T08:43:58.002612Z",
     "iopub.status.busy": "2021-10-18T08:43:58.002013Z",
     "iopub.status.idle": "2021-10-18T08:43:58.008433Z",
     "shell.execute_reply": "2021-10-18T08:43:58.008863Z",
     "shell.execute_reply.started": "2021-06-19T11:55:42.501524Z"
    },
    "papermill": {
     "duration": 0.09558,
     "end_time": "2021-10-18T08:43:58.009064",
     "exception": false,
     "start_time": "2021-10-18T08:43:57.913484",
     "status": "completed"
    },
    "tags": []
   },
   "outputs": [
    {
     "data": {
      "text/plain": [
       "{'iterations': 1000, 'learning_rate': 0.01}"
      ]
     },
     "execution_count": 62,
     "metadata": {},
     "output_type": "execute_result"
    }
   ],
   "source": [
    "cbc_grcv.best_params_"
   ]
  },
  {
   "cell_type": "markdown",
   "id": "worst-socket",
   "metadata": {
    "papermill": {
     "duration": 0.089452,
     "end_time": "2021-10-18T08:43:58.187583",
     "exception": false,
     "start_time": "2021-10-18T08:43:58.098131",
     "status": "completed"
    },
    "tags": []
   },
   "source": [
    "### LBGM"
   ]
  },
  {
   "cell_type": "code",
   "execution_count": 63,
   "id": "gorgeous-advertiser",
   "metadata": {
    "execution": {
     "iopub.execute_input": "2021-10-18T08:43:58.370501Z",
     "iopub.status.busy": "2021-10-18T08:43:58.369563Z",
     "iopub.status.idle": "2021-10-18T08:43:59.549654Z",
     "shell.execute_reply": "2021-10-18T08:43:59.549134Z",
     "shell.execute_reply.started": "2021-06-19T11:55:42.509851Z"
    },
    "papermill": {
     "duration": 1.275054,
     "end_time": "2021-10-18T08:43:59.549808",
     "exception": false,
     "start_time": "2021-10-18T08:43:58.274754",
     "status": "completed"
    },
    "tags": []
   },
   "outputs": [
    {
     "data": {
      "text/html": [
       "<style type='text/css'>\n",
       ".datatable table.frame { margin-bottom: 0; }\n",
       ".datatable table.frame thead { border-bottom: none; }\n",
       ".datatable table.frame tr.coltypes td {  color: #FFFFFF;  line-height: 6px;  padding: 0 0.5em;}\n",
       ".datatable .bool    { background: #DDDD99; }\n",
       ".datatable .object  { background: #565656; }\n",
       ".datatable .int     { background: #5D9E5D; }\n",
       ".datatable .float   { background: #4040CC; }\n",
       ".datatable .str     { background: #CC4040; }\n",
       ".datatable .row_index {  background: var(--jp-border-color3);  border-right: 1px solid var(--jp-border-color0);  color: var(--jp-ui-font-color3);  font-size: 9px;}\n",
       ".datatable .frame tr.coltypes .row_index {  background: var(--jp-border-color0);}\n",
       ".datatable th:nth-child(2) { padding-left: 12px; }\n",
       ".datatable .hellipsis {  color: var(--jp-cell-editor-border-color);}\n",
       ".datatable .vellipsis {  background: var(--jp-layout-color0);  color: var(--jp-cell-editor-border-color);}\n",
       ".datatable .na {  color: var(--jp-cell-editor-border-color);  font-size: 80%;}\n",
       ".datatable .footer { font-size: 9px; }\n",
       ".datatable .frame_dimensions {  background: var(--jp-border-color3);  border-top: 1px solid var(--jp-border-color0);  color: var(--jp-ui-font-color3);  display: inline-block;  opacity: 0.6;  padding: 1px 10px 1px 5px;}\n",
       "</style>\n"
      ],
      "text/plain": [
       "<IPython.core.display.HTML object>"
      ]
     },
     "metadata": {},
     "output_type": "display_data"
    },
    {
     "data": {
      "text/plain": [
       "0.9853658536585366"
      ]
     },
     "execution_count": 63,
     "metadata": {},
     "output_type": "execute_result"
    }
   ],
   "source": [
    "from lightgbm import LGBMClassifier\n",
    "lgbm = LGBMClassifier()\n",
    "lgbm.fit(x_train, y_train)\n",
    "lgbm_score = lgbm.score(x_test, y_test)\n",
    "lgbm_score"
   ]
  },
  {
   "cell_type": "markdown",
   "id": "prerequisite-insider",
   "metadata": {
    "papermill": {
     "duration": 0.089463,
     "end_time": "2021-10-18T08:43:59.727261",
     "exception": false,
     "start_time": "2021-10-18T08:43:59.637798",
     "status": "completed"
    },
    "tags": []
   },
   "source": [
    "### Tuning LBGM"
   ]
  },
  {
   "cell_type": "code",
   "execution_count": 64,
   "id": "quantitative-subject",
   "metadata": {
    "execution": {
     "iopub.execute_input": "2021-10-18T08:43:59.916627Z",
     "iopub.status.busy": "2021-10-18T08:43:59.915941Z",
     "iopub.status.idle": "2021-10-18T08:45:29.759056Z",
     "shell.execute_reply": "2021-10-18T08:45:29.759759Z",
     "shell.execute_reply.started": "2021-06-19T11:55:43.900404Z"
    },
    "papermill": {
     "duration": 89.94,
     "end_time": "2021-10-18T08:45:29.760013",
     "exception": false,
     "start_time": "2021-10-18T08:43:59.820013",
     "status": "completed"
    },
    "tags": []
   },
   "outputs": [
    {
     "name": "stdout",
     "output_type": "stream",
     "text": [
      "Fitting 5 folds for each of 240 candidates, totalling 1200 fits\n"
     ]
    },
    {
     "data": {
      "text/plain": [
       "0.9853658536585366"
      ]
     },
     "execution_count": 64,
     "metadata": {},
     "output_type": "execute_result"
    }
   ],
   "source": [
    "lgbm_grid = {'num_leaves': [10, 15, 30, 31, 40, 45],\n",
    "             'n_estimators':[10, 50, 100, 200],\n",
    "             'learning_rate': [0.1, 0.01],\n",
    "             'min_child_samples': [5, 10, 15, 20, 25]}\n",
    "\n",
    "\n",
    "lgbm_gscv = GridSearchCV(LGBMClassifier(random_state = 31),\n",
    "                           param_grid = lgbm_grid,\n",
    "                           cv=5,\n",
    "                           verbose=True)\n",
    "\n",
    "lgbm_gscv.fit(x_train, y_train, verbose=False)\n",
    "lgbm_tuned_score = lgbm_gscv.score(x_test, y_test)\n",
    "lgbm_tuned_score"
   ]
  },
  {
   "cell_type": "code",
   "execution_count": 65,
   "id": "sustained-transformation",
   "metadata": {
    "execution": {
     "iopub.execute_input": "2021-10-18T08:45:29.969865Z",
     "iopub.status.busy": "2021-10-18T08:45:29.969255Z",
     "iopub.status.idle": "2021-10-18T08:45:29.972958Z",
     "shell.execute_reply": "2021-10-18T08:45:29.973426Z",
     "shell.execute_reply.started": "2021-06-19T11:57:07.195805Z"
    },
    "papermill": {
     "duration": 0.095439,
     "end_time": "2021-10-18T08:45:29.973592",
     "exception": false,
     "start_time": "2021-10-18T08:45:29.878153",
     "status": "completed"
    },
    "tags": []
   },
   "outputs": [
    {
     "data": {
      "text/plain": [
       "{'learning_rate': 0.1,\n",
       " 'min_child_samples': 5,\n",
       " 'n_estimators': 200,\n",
       " 'num_leaves': 45}"
      ]
     },
     "execution_count": 65,
     "metadata": {},
     "output_type": "execute_result"
    }
   ],
   "source": [
    "lgbm_gscv.best_params_"
   ]
  },
  {
   "cell_type": "code",
   "execution_count": 66,
   "id": "governmental-decrease",
   "metadata": {
    "execution": {
     "iopub.execute_input": "2021-10-18T08:45:30.154640Z",
     "iopub.status.busy": "2021-10-18T08:45:30.154016Z",
     "iopub.status.idle": "2021-10-18T08:45:30.157624Z",
     "shell.execute_reply": "2021-10-18T08:45:30.157055Z",
     "shell.execute_reply.started": "2021-06-19T12:00:17.671891Z"
    },
    "papermill": {
     "duration": 0.096491,
     "end_time": "2021-10-18T08:45:30.157768",
     "exception": false,
     "start_time": "2021-10-18T08:45:30.061277",
     "status": "completed"
    },
    "tags": []
   },
   "outputs": [],
   "source": [
    "# create a dictionary with all scores\n",
    "score = [{'Model':'Logistic Regression', 'Score': log_score, 'Tuned_score': log_tuned_score}, \n",
    "         {'Model':'SVC', 'Score': svc_score, 'Tuned_score': svc_tuned_score},\n",
    "         {'Model':'KNN', 'Score': knn_score, 'Tuned_score': knn_tuned_score},\n",
    "         {'Model':'Gradient Boosting', 'Score': gbc_score, 'Tuned_score': gbc_tuned_score},\n",
    "         {'Model':'CatBoost', 'Score': cbc_score, 'Tuned_score': cbc_tuned_score},\n",
    "         {'Model':'LGBM', 'Score': lgbm_score, 'Tuned_score': lgbm_tuned_score}]"
   ]
  },
  {
   "cell_type": "markdown",
   "id": "varied-ethnic",
   "metadata": {
    "papermill": {
     "duration": 0.088563,
     "end_time": "2021-10-18T08:45:30.333076",
     "exception": false,
     "start_time": "2021-10-18T08:45:30.244513",
     "status": "completed"
    },
    "tags": []
   },
   "source": [
    "Let's view all model score as a dataframe to get a good overview"
   ]
  },
  {
   "cell_type": "code",
   "execution_count": 67,
   "id": "early-profile",
   "metadata": {
    "execution": {
     "iopub.execute_input": "2021-10-18T08:45:30.517956Z",
     "iopub.status.busy": "2021-10-18T08:45:30.517057Z",
     "iopub.status.idle": "2021-10-18T08:45:30.521781Z",
     "shell.execute_reply": "2021-10-18T08:45:30.521155Z",
     "shell.execute_reply.started": "2021-06-19T12:00:22.04698Z"
    },
    "papermill": {
     "duration": 0.102054,
     "end_time": "2021-10-18T08:45:30.521925",
     "exception": false,
     "start_time": "2021-10-18T08:45:30.419871",
     "status": "completed"
    },
    "tags": []
   },
   "outputs": [
    {
     "data": {
      "text/html": [
       "<div>\n",
       "<style scoped>\n",
       "    .dataframe tbody tr th:only-of-type {\n",
       "        vertical-align: middle;\n",
       "    }\n",
       "\n",
       "    .dataframe tbody tr th {\n",
       "        vertical-align: top;\n",
       "    }\n",
       "\n",
       "    .dataframe thead th {\n",
       "        text-align: right;\n",
       "    }\n",
       "</style>\n",
       "<table border=\"1\" class=\"dataframe\">\n",
       "  <thead>\n",
       "    <tr style=\"text-align: right;\">\n",
       "      <th></th>\n",
       "      <th>Model</th>\n",
       "      <th>Score</th>\n",
       "      <th>Tuned_score</th>\n",
       "    </tr>\n",
       "  </thead>\n",
       "  <tbody>\n",
       "    <tr>\n",
       "      <th>0</th>\n",
       "      <td>Logistic Regression</td>\n",
       "      <td>0.858537</td>\n",
       "      <td>0.868293</td>\n",
       "    </tr>\n",
       "    <tr>\n",
       "      <th>1</th>\n",
       "      <td>SVC</td>\n",
       "      <td>0.756098</td>\n",
       "      <td>0.868293</td>\n",
       "    </tr>\n",
       "    <tr>\n",
       "      <th>2</th>\n",
       "      <td>KNN</td>\n",
       "      <td>0.756098</td>\n",
       "      <td>0.941463</td>\n",
       "    </tr>\n",
       "    <tr>\n",
       "      <th>3</th>\n",
       "      <td>Gradient Boosting</td>\n",
       "      <td>0.946341</td>\n",
       "      <td>0.985366</td>\n",
       "    </tr>\n",
       "    <tr>\n",
       "      <th>4</th>\n",
       "      <td>CatBoost</td>\n",
       "      <td>0.985366</td>\n",
       "      <td>0.985366</td>\n",
       "    </tr>\n",
       "    <tr>\n",
       "      <th>5</th>\n",
       "      <td>LGBM</td>\n",
       "      <td>0.985366</td>\n",
       "      <td>0.985366</td>\n",
       "    </tr>\n",
       "  </tbody>\n",
       "</table>\n",
       "</div>"
      ],
      "text/plain": [
       "                 Model     Score  Tuned_score\n",
       "0  Logistic Regression  0.858537     0.868293\n",
       "1                  SVC  0.756098     0.868293\n",
       "2                  KNN  0.756098     0.941463\n",
       "3    Gradient Boosting  0.946341     0.985366\n",
       "4             CatBoost  0.985366     0.985366\n",
       "5                 LGBM  0.985366     0.985366"
      ]
     },
     "execution_count": 67,
     "metadata": {},
     "output_type": "execute_result"
    }
   ],
   "source": [
    "pd.DataFrame(score, columns=['Model','Score','Tuned_score'])"
   ]
  },
  {
   "cell_type": "markdown",
   "id": "mineral-enough",
   "metadata": {
    "papermill": {
     "duration": 0.086003,
     "end_time": "2021-10-18T08:45:30.694849",
     "exception": false,
     "start_time": "2021-10-18T08:45:30.608846",
     "status": "completed"
    },
    "tags": []
   },
   "source": [
    "# Evaluation"
   ]
  },
  {
   "cell_type": "code",
   "execution_count": 68,
   "id": "cheap-modeling",
   "metadata": {
    "execution": {
     "iopub.execute_input": "2021-10-18T08:45:30.881881Z",
     "iopub.status.busy": "2021-10-18T08:45:30.881130Z",
     "iopub.status.idle": "2021-10-18T08:45:30.884595Z",
     "shell.execute_reply": "2021-10-18T08:45:30.885023Z",
     "shell.execute_reply.started": "2021-06-19T12:00:51.955802Z"
    },
    "papermill": {
     "duration": 0.103422,
     "end_time": "2021-10-18T08:45:30.885196",
     "exception": false,
     "start_time": "2021-10-18T08:45:30.781774",
     "status": "completed"
    },
    "tags": []
   },
   "outputs": [],
   "source": [
    "# Making preidctions on test set\n",
    "y_preds = gbc_gscv.predict(x_test)"
   ]
  },
  {
   "cell_type": "code",
   "execution_count": 69,
   "id": "incredible-lingerie",
   "metadata": {
    "execution": {
     "iopub.execute_input": "2021-10-18T08:45:31.073025Z",
     "iopub.status.busy": "2021-10-18T08:45:31.072116Z",
     "iopub.status.idle": "2021-10-18T08:45:31.220792Z",
     "shell.execute_reply": "2021-10-18T08:45:31.219854Z",
     "shell.execute_reply.started": "2021-06-19T12:00:57.340081Z"
    },
    "papermill": {
     "duration": 0.247378,
     "end_time": "2021-10-18T08:45:31.220949",
     "exception": false,
     "start_time": "2021-10-18T08:45:30.973571",
     "status": "completed"
    },
    "tags": []
   },
   "outputs": [
    {
     "data": {
      "image/png": "[encoded data removed]",
      "text/plain": [
       "<Figure size 432x288 with 1 Axes>"
      ]
     },
     "metadata": {
      "needs_background": "light"
     },
     "output_type": "display_data"
    }
   ],
   "source": [
    "#plotting roc curve\n",
    "from sklearn.metrics import plot_roc_curve\n",
    "\n",
    "plot_roc_curve(gbc_gscv, x_test, y_test);"
   ]
  },
  {
   "cell_type": "code",
   "execution_count": 70,
   "id": "furnished-delight",
   "metadata": {
    "execution": {
     "iopub.execute_input": "2021-10-18T08:45:31.412173Z",
     "iopub.status.busy": "2021-10-18T08:45:31.410916Z",
     "iopub.status.idle": "2021-10-18T08:45:31.559924Z",
     "shell.execute_reply": "2021-10-18T08:45:31.560417Z",
     "shell.execute_reply.started": "2021-06-19T12:01:07.129365Z"
    },
    "papermill": {
     "duration": 0.249829,
     "end_time": "2021-10-18T08:45:31.560590",
     "exception": false,
     "start_time": "2021-10-18T08:45:31.310761",
     "status": "completed"
    },
    "tags": []
   },
   "outputs": [
    {
     "data": {
      "image/png": "[encoded data removed]",
      "text/plain": [
       "<Figure size 432x288 with 2 Axes>"
      ]
     },
     "metadata": {
      "needs_background": "light"
     },
     "output_type": "display_data"
    }
   ],
   "source": [
    "#confusion matrix\n",
    "from sklearn.metrics import plot_confusion_matrix\n",
    "plot_confusion_matrix(gbc_gscv, x_test, y_test,\n",
    "                     cmap=plt.cm.Blues);"
   ]
  },
  {
   "cell_type": "code",
   "execution_count": 71,
   "id": "dried-facing",
   "metadata": {
    "execution": {
     "iopub.execute_input": "2021-10-18T08:45:31.748399Z",
     "iopub.status.busy": "2021-10-18T08:45:31.747694Z",
     "iopub.status.idle": "2021-10-18T08:45:31.758595Z",
     "shell.execute_reply": "2021-10-18T08:45:31.757946Z",
     "shell.execute_reply.started": "2021-06-19T12:01:12.205855Z"
    },
    "papermill": {
     "duration": 0.105512,
     "end_time": "2021-10-18T08:45:31.758734",
     "exception": false,
     "start_time": "2021-10-18T08:45:31.653222",
     "status": "completed"
    },
    "tags": []
   },
   "outputs": [
    {
     "name": "stdout",
     "output_type": "stream",
     "text": [
      "              precision    recall  f1-score   support\n",
      "\n",
      "           0       0.97      1.00      0.98        97\n",
      "           1       1.00      0.97      0.99       108\n",
      "\n",
      "    accuracy                           0.99       205\n",
      "   macro avg       0.98      0.99      0.99       205\n",
      "weighted avg       0.99      0.99      0.99       205\n",
      "\n"
     ]
    }
   ],
   "source": [
    "#classification_report\n",
    "from sklearn.metrics import classification_report\n",
    "print(classification_report(y_test, y_preds))"
   ]
  },
  {
   "cell_type": "markdown",
   "id": "simplified-triangle",
   "metadata": {
    "papermill": {
     "duration": 0.0884,
     "end_time": "2021-10-18T08:45:31.937185",
     "exception": false,
     "start_time": "2021-10-18T08:45:31.848785",
     "status": "completed"
    },
    "tags": []
   },
   "source": [
    "### If you find this notebook helpful, don't forget upvoting. Thank You"
   ]
  }
 ],
 "metadata": {
  "kernelspec": {
   "display_name": "Python 3",
   "language": "python",
   "name": "python3"
  },
  "language_info": {
   "codemirror_mode": {
    "name": "ipython",
    "version": 3
   },
   "file_extension": ".py",
   "mimetype": "text/x-python",
   "name": "python",
   "nbconvert_exporter": "python",
   "pygments_lexer": "ipython3",
   "version": "3.7.10"
  },
  "papermill": {
   "default_parameters": {},
   "duration": 2665.861,
   "end_time": "2021-10-18T08:45:33.847544",
   "environment_variables": {},
   "exception": null,
   "input_path": "__notebook__.ipynb",
   "output_path": "__notebook__.ipynb",
   "parameters": {},
   "start_time": "2021-10-18T08:01:07.986544",
   "version": "2.3.3"
  }
 },
 "nbformat": 4,
 "nbformat_minor": 5
}
